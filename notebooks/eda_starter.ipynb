{
 "cells": [
  {
   "cell_type": "code",
   "execution_count": null,
   "metadata": {},
   "outputs": [],
   "source": [
    "import pandas as pd\n",
    "import plotly.express as px\n",
    "\n",
    "mall = pd.read_csv('../data/v1/mall.csv')\n",
    "cost = pd.read_csv('../data/v1/cost.csv')\n",
    "traffic_block_level = pd.read_csv('../data/v1/people_flow.csv')\n",
    "store_to_external_mall = pd.read_csv('../data/v1/referenciel_traffic.csv')\n",
    "traffic_mall_level = pd.read_csv('../data/v1/mall_traffic_data.csv')\n",
    "store = pd.read_csv('../data/v1/store.csv')\n",
    "dwell_time = pd.read_csv('../data/v1/dwell_time.csv')\n",
    "# mall_name_mapping = pd.read_json('../data/v1/mapping_mall.json', typ='series') not useful\n",
    "\n",
    "\n",
    "\n",
    "mall.set_index('mall_id', inplace=True)\n",
    "mall['is_third_party'] = mall['mall_country'].str.contains('Third Parties').astype(int)\n",
    "\n",
    "import numpy as np\n",
    "cost[\"total_cost_r12m\"] = np.sum(\n",
    "    np.array([cost[i].fillna(0).values for i in cost.columns if i.endswith('r12m')])\n",
    ", axis=0) - 2 * cost['rent_incentive_r12m']\n",
    "\n",
    "\n",
    "store.drop(columns=[\n",
    "    # 'store_year_closed',\n",
    "    # 'store_year_opened',\n",
    "    'store_name',\n",
    "    \n",
    "    ], inplace=True)\n",
    "store = store.join(mall, on='mall_id')\n",
    "store = pd.merge(store, cost, on='store_id', how='left')\n",
    "\n",
    "store_to_external_mall.dropna(inplace=True)\n",
    "store_to_external_mall.store_id = store_to_external_mall.store_id.astype(int)\n",
    "store_to_external_mall.block_id = store_to_external_mall.block_id.astype(int)\n",
    "store_to_external_mall.external_mall_id = store_to_external_mall.external_mall_id.astype(int)\n",
    "store_to_external_mall.set_index('store_id', inplace=True)\n",
    "\n",
    "store_index = store[[\"store_id\", \"mall_id\"]]\n",
    "mall_to_external_mall = store_index.join(store_to_external_mall, on='store_id', how='left')[['mall_id', 'external_mall_id']]\n",
    "mall_to_external_mall = mall_to_external_mall.dropna().drop_duplicates()\n",
    "\n",
    "traffic_block_level = traffic_block_level[traffic_block_level['days_with_traffic_data'] >= 5]\n"
   ]
  },
  {
   "cell_type": "code",
   "execution_count": null,
   "metadata": {},
   "outputs": [],
   "source": [
    "cost"
   ]
  },
  {
   "cell_type": "markdown",
   "metadata": {},
   "source": [
    "### QUESTIONS\n",
    "- What are main drivers of rent?\n",
    "\n"
   ]
  },
  {
   "cell_type": "markdown",
   "metadata": {},
   "source": [
    "## Malls"
   ]
  },
  {
   "cell_type": "code",
   "execution_count": null,
   "metadata": {},
   "outputs": [],
   "source": [
    "import plotly.express as px\n",
    "\n",
    "# Aggregate sales data by country\n",
    "sales_per_country = store.groupby('mall_country').agg({'store_sales_r12m': 'sum', 'is_third_party': 'max'}).reset_index()\n",
    "sales_per_country.columns = ['Country', 'Total Sales', 'is_third_party']\n",
    "\n",
    "# Sort the dataframe in descending order by total sales\n",
    "sales_per_country = sales_per_country.sort_values(by='Total Sales', ascending=False)\n",
    "\n",
    "# Plot the data\n",
    "fig = px.bar(sales_per_country, x='Country', y='Total Sales', title='Total Sales per Country', color='is_third_party')\n",
    "fig.update_layout(xaxis_title='Country', yaxis_title='Total Sales', xaxis_tickangle=-45)\n",
    "fig.update_layout(coloraxis_showscale=False)\n",
    "fig.update_traces(marker=dict(color=['#636EFA' if x == 0 else '#EF553B' for x in sales_per_country['is_third_party']]))\n",
    "fig.update_layout(\n",
    "    height=600,\n",
    "    width=800,\n",
    ")\n",
    "fig.show()"
   ]
  },
  {
   "cell_type": "code",
   "execution_count": null,
   "metadata": {},
   "outputs": [],
   "source": [
    "# Define custom colors for specific countries\n",
    "color_map = {\n",
    "    'France': '#00CC96',\n",
    "    'USA': '#00CC96',\n",
    "    'Germany': '#00CC96'\n",
    "}\n",
    "\n",
    "# Set default color to grey for all other countries\n",
    "default_color = '#B0B0B0'\n",
    "\n",
    "# Apply the custom colors to the box plot\n",
    "fig = px.box(mall, x='mall_country', y='total_mall_area', title='Mall Size per Country', color='mall_country', color_discrete_map=color_map)\n",
    "fig.for_each_trace(lambda t: t.update(marker_color=color_map.get(t.name, default_color)))\n",
    "fig.update_layout(xaxis_title='Country', yaxis_title='Mall Area (m²)', xaxis_tickangle=-45, showlegend=False)\n",
    "fig.show()"
   ]
  },
  {
   "cell_type": "markdown",
   "metadata": {},
   "source": [
    "## Stores"
   ]
  },
  {
   "cell_type": "code",
   "execution_count": null,
   "metadata": {},
   "outputs": [],
   "source": [
    "store_index = store[[\"store_id\", \"mall_id\"]]\n",
    "mall_to_external_mall = store_index.join(store_to_external_mall, on='store_id', how='left')[['mall_id', 'external_mall_id']]\n",
    "mall_to_external_mall = mall_to_external_mall.dropna().drop_duplicates()\n",
    "mall_to_external_mall \n",
    "\n",
    "duplicate_external_mall_ids = mall_to_external_mall[mall_to_external_mall['external_mall_id'].duplicated(keep=False)]\n",
    "# by setting keep=False we get all duplicates\n",
    "print(duplicate_external_mall_ids)"
   ]
  },
  {
   "cell_type": "code",
   "execution_count": null,
   "metadata": {},
   "outputs": [],
   "source": [
    "missing_values = store.isna().sum() / store.shape[0]\n",
    "nonzero_missing_values = missing_values[missing_values > 0]\n",
    "pd.DataFrame(nonzero_missing_values).T"
   ]
  },
  {
   "cell_type": "markdown",
   "metadata": {},
   "source": [
    "Drop stores that lack rent/sales info"
   ]
  },
  {
   "cell_type": "code",
   "execution_count": null,
   "metadata": {},
   "outputs": [],
   "source": [
    "store.dropna(subset=['store_sales_r12m', 'store_sales_r12m'], inplace=True)"
   ]
  },
  {
   "cell_type": "code",
   "execution_count": null,
   "metadata": {},
   "outputs": [],
   "source": [
    "import plotly.express as px\n",
    "\n",
    "# Count the number of closed stores\n",
    "closed_stores_count = store['store_year_closed'].notna().sum()\n",
    "open_stores_count = store['store_year_closed'].isna().sum()\n",
    "\n",
    "# Create a dataframe for the pie chart\n",
    "store_status = pd.DataFrame({\n",
    "    'Status': ['Closed', 'Open'],\n",
    "    'Count': [closed_stores_count, open_stores_count]\n",
    "})\n",
    "\n",
    "# Plot the pie chart\n",
    "fig = px.pie(store_status, values='Count', names='Status', title='Open stores at capture')\n",
    "fig.show()"
   ]
  },
  {
   "cell_type": "markdown",
   "metadata": {},
   "source": [
    "We focus on stores that are open today, to have a uniform snapshot of sales and rent expenses."
   ]
  },
  {
   "cell_type": "code",
   "execution_count": null,
   "metadata": {},
   "outputs": [],
   "source": [
    "store = store[store['store_year_closed'].isna()]\n",
    "store.drop(columns=['store_year_closed'], inplace=True)"
   ]
  },
  {
   "cell_type": "code",
   "execution_count": null,
   "metadata": {},
   "outputs": [],
   "source": [
    "import plotly.express as px\n",
    "\n",
    "# Count the number of stores per mall\n",
    "stores_per_mall = store['mall_name'].value_counts().reset_index()\n",
    "stores_per_mall.columns = ['Mall Name', 'Number of Stores']\n",
    "\n",
    "\n",
    "# Plot histogram of the number of stores per mall\n",
    "fig = px.box(stores_per_mall, x='Number of Stores', title='Histogram of Number of Stores per Mall')\n",
    "fig.update_layout(xaxis_title='Number of Stores', yaxis_title='Count')\n",
    "# Calculate the median number of stores per mall\n",
    "median_stores_per_mall = stores_per_mall['Number of Stores'].median()\n",
    "\n",
    "# Annotate the median on the plot\n",
    "fig.add_annotation(\n",
    "    x=median_stores_per_mall,\n",
    "    y=0.5,\n",
    "    text=f\"Median: {median_stores_per_mall}\",\n",
    "    showarrow=True,\n",
    "    arrowhead=2,\n",
    "    ax=0,\n",
    "    ay=-40\n",
    ")\n",
    "fig.show()"
   ]
  },
  {
   "cell_type": "code",
   "execution_count": null,
   "metadata": {},
   "outputs": [],
   "source": [
    "import plotly.express as px\n",
    "\n",
    "# Count the number of stores per store_branch_level_1\n",
    "store_branch_distribution = store['store_branch_level_1'].value_counts().reset_index()\n",
    "store_branch_distribution.columns = ['store_branch_level_1', 'count']\n",
    "\n",
    "# Plot the data\n",
    "fig = px.bar(store_branch_distribution, x='store_branch_level_1', y='count', title='Distribution of Store Categories')\n",
    "fig.update_layout(xaxis_title='Store Branch Level 1', yaxis_title='Count', xaxis_tickangle=-45)\n",
    "fig.show()"
   ]
  },
  {
   "cell_type": "code",
   "execution_count": null,
   "metadata": {},
   "outputs": [],
   "source": [
    "# Calculate average rent per store_branch_level_1\n",
    "average_rent = store.groupby('store_branch_level_1')['store_rent_r12m'].mean().dropna().reset_index()\n",
    "\n",
    "# Sort the results by store_rent_r12m in descending order\n",
    "average_rent = average_rent.sort_values(by='store_rent_r12m', ascending=False)\n",
    "\n",
    "# Plot the data\n",
    "fig = px.bar(average_rent, x='store_branch_level_1', y='store_rent_r12m', title='Average Rent by Store Branch Level 1')\n",
    "fig.update_layout(xaxis_title='Store Branch Level 1', yaxis_title='Average Rent (R12M)', xaxis_tickangle=-45)\n",
    "fig.show()"
   ]
  },
  {
   "cell_type": "markdown",
   "metadata": {},
   "source": [
    "Substitute 0 with NA to get realistic results."
   ]
  },
  {
   "cell_type": "code",
   "execution_count": null,
   "metadata": {},
   "outputs": [],
   "source": [
    "store.replace({'store_area': {0: None}}, inplace=True)"
   ]
  },
  {
   "cell_type": "code",
   "execution_count": null,
   "metadata": {},
   "outputs": [],
   "source": [
    "# Remove NAs in store_area\n",
    "store_cleaned = store.dropna(subset=['store_area'])\n",
    "\n",
    "# Plot the store area distribution by store_branch_level_1\n",
    "fig = px.box(store_cleaned, x='store_branch_level_1', y='store_area', title='Store Area Distribution by Category')\n",
    "fig.update_layout(xaxis_title='Store Type', yaxis_title='Store Area (m²)', xaxis_tickangle=-45)\n",
    "fig.show()"
   ]
  },
  {
   "cell_type": "code",
   "execution_count": null,
   "metadata": {},
   "outputs": [],
   "source": [
    "import plotly.express as px\n",
    "\n",
    "# Plot rent against store area\n",
    "fig = px.scatter(store_cleaned, x='store_area', y='store_rent_r12m', title='Rent vs Store Area', log_y=False)\n",
    "fig.update_layout(xaxis_title='Store Area (m²)', yaxis_title='Yearly rent')\n",
    "fig.show()"
   ]
  },
  {
   "cell_type": "markdown",
   "metadata": {},
   "source": [
    "Not much correlation between store size and rent"
   ]
  },
  {
   "cell_type": "code",
   "execution_count": null,
   "metadata": {},
   "outputs": [],
   "source": [
    "store = pd.merge(store, store_to_external_mall, on='store_id', how='left')\n",
    "store = pd.merge(store, dwell_time, on=['block_id', 'external_mall_id'], how='left')"
   ]
  },
  {
   "cell_type": "code",
   "execution_count": null,
   "metadata": {},
   "outputs": [],
   "source": [
    "import plotly.express as px\n",
    "\n",
    "# Group by block_id and calculate the mean of average_dwell_time and store_sales_r12m\n",
    "block = store.groupby('block_id').agg({'average_dwell_time': 'mean', 'store_sales_r12m': 'mean'}).reset_index()\n",
    "# Plot average dwell time against sales\n",
    "fig = px.scatter(block, x='average_dwell_time', y='store_sales_r12m', title='Dwell time in block vs Sales')\n",
    "fig.update_layout(xaxis_title='Average Dwell Time (minutes)', yaxis_title='Sales (log scale, averaged over block)')\n",
    "fig.show()"
   ]
  },
  {
   "cell_type": "code",
   "execution_count": null,
   "metadata": {},
   "outputs": [],
   "source": [
    "import plotly.express as px\n",
    "\n",
    "# Plot average dwell time vs median dwell time\n",
    "fig = px.scatter(dwell_time, x='average_dwell_time', y='median_dwell_time', title='Average vs Median Dwell Time')\n",
    "fig.update_layout(xaxis_title='Average Dwell Time (minutes)', yaxis_title='Median Dwell Time (minutes)')\n",
    "\n",
    "# Add a line y=x in red\n",
    "fig.add_shape(\n",
    "    type='line',\n",
    "    x0=dwell_time['average_dwell_time'].min(),\n",
    "    y0=dwell_time['average_dwell_time'].min(),\n",
    "    x1=dwell_time['average_dwell_time'].max(),\n",
    "    y1=dwell_time['average_dwell_time'].max(),\n",
    "    line=dict(color='Red', dash='dash')\n",
    ")\n",
    "fig.show()"
   ]
  },
  {
   "cell_type": "markdown",
   "metadata": {},
   "source": [
    "Average dwell time is consistently greater than the median, suggesting that the distribution of dwell-time is right-skewed, i.e. few long-stayers and a bulk of people spending a shorter time in the block/mall"
   ]
  },
  {
   "cell_type": "code",
   "execution_count": null,
   "metadata": {},
   "outputs": [],
   "source": [
    "block = store.groupby('block_id').agg({\n",
    "    'store_sales_r12m': 'sum',\n",
    "    'average_dwell_time': 'mean',\n",
    "    'store_area': 'sum',\n",
    "    'store_rent_r12m': 'sum'\n",
    "})\n",
    "\n",
    "block = pd.merge(block, traffic_block_level, on='block_id', how='left')"
   ]
  },
  {
   "cell_type": "code",
   "execution_count": null,
   "metadata": {},
   "outputs": [],
   "source": [
    "import plotly.express as px\n",
    "\n",
    "# Plot store visits against sales\n",
    "fig = px.scatter(block, x='store_visits_monthly_average', y='store_rent_r12m', title='Store Visits vs Sales')\n",
    "fig.update_layout(xaxis_title='Store Visits Monthly Average', yaxis_title='Avg Rent in block')\n",
    "fig.show()"
   ]
  },
  {
   "cell_type": "markdown",
   "metadata": {},
   "source": [
    "## France Focus"
   ]
  },
  {
   "cell_type": "code",
   "execution_count": null,
   "metadata": {},
   "outputs": [],
   "source": [
    "store_france = store.copy()[store['mall_country'] == 'France']"
   ]
  },
  {
   "cell_type": "code",
   "execution_count": null,
   "metadata": {},
   "outputs": [],
   "source": [
    "mall_france = store_france.groupby('mall_id').agg({'store_sales_r12m': 'sum', 'store_rent_r12m': 'sum'}).reset_index()\n",
    "mall_france = pd.merge(mall_france, mall_to_external_mall, on='mall_id', how='left')\n",
    "mall_france = pd.merge(mall_france, mall, on='mall_id', how='left')\n",
    "# mall_france = pd.merge(mall_france, traffic_mall_level, on='external_mall_id', how='left')\n",
    "# mall_france.dropna(subset=['external_mall_id'], inplace=True)\n",
    "\n",
    "mall_france['sales_per_sqm'] = mall_france['store_sales_r12m'] / mall_france['total_mall_area']\n",
    "mall_france['rent_per_sqm'] = mall_france['store_rent_r12m'] / mall_france['total_mall_area']\n",
    "\n",
    "\n",
    "mall_france.sort_values(by='sales_per_sqm', ascending=False, inplace=True)\n",
    "best_malls_sales = mall_france.copy().head(10)\n",
    "worst_malls_sales = mall_france.copy().tail(10)"
   ]
  },
  {
   "cell_type": "code",
   "execution_count": null,
   "metadata": {},
   "outputs": [],
   "source": [
    "import plotly.express as px\n",
    "\n",
    "# Filter stores in best and worst malls\n",
    "best_malls_sales_stores = store[store['mall_id'].isin(best_malls_sales['mall_id'])]\n",
    "worst_malls_sales_stores = store[store['mall_id'].isin(worst_malls_sales['mall_id'])]\n",
    "\n",
    "# Count the occurrences of each store_branch_level_1\n",
    "best_malls_sales_branch_count = best_malls_sales_stores['store_branch_level_1'].value_counts(normalize=True).reset_index()\n",
    "best_malls_sales_branch_count.columns = ['store_branch_level_1', 'count']\n",
    "\n",
    "worst_malls_sales_branch_count = worst_malls_sales_stores['store_branch_level_1'].value_counts(normalize=True).reset_index()\n",
    "worst_malls_sales_branch_count.columns = ['store_branch_level_1', 'count']\n",
    "\n",
    "# Keep only the first 5 categories\n",
    "best_malls_sales_branch_count = best_malls_sales_branch_count.head(7)\n",
    "worst_malls_sales_branch_count = worst_malls_sales_branch_count[worst_malls_sales_branch_count['store_branch_level_1'].isin(best_malls_sales_branch_count['store_branch_level_1'])]\n",
    "\n",
    "# Add a column to distinguish between best and worst malls\n",
    "best_malls_sales_branch_count['Category'] = 'Best Malls'\n",
    "worst_malls_sales_branch_count['Category'] = 'Worst Malls'\n",
    "\n",
    "# Combine the dataframes\n",
    "combined_branch_count = pd.concat([best_malls_sales_branch_count, worst_malls_sales_branch_count])\n",
    "\n",
    "# Plot the data\n",
    "fig = px.bar(combined_branch_count, x='store_branch_level_1', y='count', color='Category', barmode='group', title='Best vs Worst Malls by Sales per sqm')\n",
    "fig.update_layout(xaxis_title='Store category', yaxis_title='Fraction of stores', xaxis_tickangle=-45)\n",
    "fig.update_layout(yaxis_tickformat='.0%')\n",
    "fig.show()\n"
   ]
  },
  {
   "cell_type": "code",
   "execution_count": null,
   "metadata": {},
   "outputs": [],
   "source": [
    "import plotly.express as px\n",
    "\n",
    "# Combine the best and worst mall sales data\n",
    "best_malls_sales['Category'] = 'Best Malls'\n",
    "worst_malls_sales['Category'] = 'Worst Malls'\n",
    "combined_mall_sales = pd.concat([best_malls_sales, worst_malls_sales])\n",
    "\n",
    "# Plot the data\n",
    "fig = px.box(combined_mall_sales, x='Category', y='rent_per_sqm', title='Comparison of Rent per sqm between Best and Worst Malls')\n",
    "fig.update_layout(xaxis_title='Category', yaxis_title='Rent per sqm')\n",
    "fig.show()"
   ]
  },
  {
   "cell_type": "markdown",
   "metadata": {},
   "source": [
    "Stores with highes sales also have highest rent per sqm. This makes sense but what is the causality? Is rent high because its an appealing location?"
   ]
  },
  {
   "cell_type": "code",
   "execution_count": null,
   "metadata": {},
   "outputs": [],
   "source": [
    "store_france['sales_per_sqm'] = store_france['store_sales_r12m'] / store_france['store_area']\n",
    "store_france['rent_per_sqm'] = store_france['store_rent_r12m'] / store_france['store_area']"
   ]
  },
  {
   "cell_type": "code",
   "execution_count": null,
   "metadata": {},
   "outputs": [],
   "source": [
    "# Convert sales_per_sqm and rent_per_sqm to numeric, forcing errors to NaN\n",
    "store_france['sales_per_sqm'] = pd.to_numeric(store_france['sales_per_sqm'], errors='coerce')\n",
    "store_france['rent_per_sqm'] = pd.to_numeric(store_france['rent_per_sqm'], errors='coerce')\n",
    "\n",
    "# Group by store_branch_level_1 and calculate the mean of sales_per_sqm and rent_per_sqm\n",
    "category_sales_rent = store_france.groupby('store_branch_level_1').agg({\n",
    "    'sales_per_sqm': 'mean',\n",
    "    'rent_per_sqm': 'mean'\n",
    "}).dropna().reset_index()\n",
    "\n",
    "# Sort by sales_per_sqm in descending order\n",
    "highest_sales_per_sqm = category_sales_rent.sort_values(by='sales_per_sqm', ascending=False).head(10)\n",
    "\n",
    "# Sort by rent_per_sqm in descending order\n",
    "highest_rent_per_sqm = category_sales_rent.sort_values(by='rent_per_sqm', ascending=False).head(10)"
   ]
  },
  {
   "cell_type": "code",
   "execution_count": null,
   "metadata": {},
   "outputs": [],
   "source": [
    "highest_sales_per_sqm"
   ]
  },
  {
   "cell_type": "code",
   "execution_count": null,
   "metadata": {},
   "outputs": [],
   "source": [
    "highest_rent_per_sqm"
   ]
  },
  {
   "cell_type": "markdown",
   "metadata": {},
   "source": [
    "Factors to consider: \n",
    "- A: how much money the individual store brings\n",
    "- B: how much store presence benefits other stores ?"
   ]
  },
  {
   "cell_type": "code",
   "execution_count": null,
   "metadata": {},
   "outputs": [],
   "source": [
    "store[\"margin_r12m_1pc\"] = store[\"store_sales_r12m\"] * 0.01 + store[\"store_rent_r12m\"] - store[\"total_cost_r12m\"]\n",
    "store[\"margin_r12m_2pc\"] = store[\"store_sales_r12m\"] * 0.02 + store[\"store_rent_r12m\"] - store[\"total_cost_r12m\"]\n",
    "store[\"margin_r12m_3pc\"] = store[\"store_sales_r12m\"] * 0.03 + store[\"store_rent_r12m\"] - store[\"total_cost_r12m\"]\n",
    "store[\"margin_r12m_4pc\"] = store[\"store_sales_r12m\"] * 0.04 + store[\"store_rent_r12m\"] - store[\"total_cost_r12m\"]\n",
    "store[\"margin_r12m_5pc\"] = store[\"store_sales_r12m\"] * 0.05 + store[\"store_rent_r12m\"] - store[\"total_cost_r12m\"]\n",
    "\n",
    "store[\"margin_r12m_1pc_per_sqm\"] = store[\"margin_r12m_1pc\"] / store[\"store_area\"]\n",
    "store[\"margin_r12m_2pc_per_sqm\"] = store[\"margin_r12m_2pc\"] / store[\"store_area\"]\n",
    "store[\"margin_r12m_3pc_per_sqm\"] = store[\"margin_r12m_3pc\"] / store[\"store_area\"]\n",
    "store[\"margin_r12m_4pc_per_sqm\"] = store[\"margin_r12m_4pc\"] / store[\"store_area\"]\n",
    "store[\"margin_r12m_5pc_per_sqm\"] = store[\"margin_r12m_5pc\"] / store[\"store_area\"]"
   ]
  },
  {
   "cell_type": "code",
   "execution_count": null,
   "metadata": {},
   "outputs": [],
   "source": [
    "import plotly.express as px\n",
    "\n",
    "# Prepare the data for plotting\n",
    "margins_data = store[['margin_r12m_1pc_per_sqm', 'margin_r12m_2pc_per_sqm', 'margin_r12m_3pc_per_sqm', 'margin_r12m_4pc_per_sqm', 'margin_r12m_5pc_per_sqm']].melt(var_name='Commission Level', value_name='Margin per sqm')\n",
    "\n",
    "# Rename the commission levels for better readability\n",
    "margins_data['Commission Level'] = margins_data['Commission Level'].replace({\n",
    "    'margin_r12m_1pc_per_sqm': '1% Commission',\n",
    "    'margin_r12m_2pc_per_sqm': '2% Commission',\n",
    "    'margin_r12m_3pc_per_sqm': '3% Commission',\n",
    "    'margin_r12m_4pc_per_sqm': '4% Commission',\n",
    "    'margin_r12m_5pc_per_sqm': '5% Commission'\n",
    "})\n",
    "\n",
    "# Remove outliers using IQR method\n",
    "Q1 = margins_data['Margin per sqm'].quantile(0.25)\n",
    "Q3 = margins_data['Margin per sqm'].quantile(0.75)\n",
    "IQR = Q3 - Q1\n",
    "filtered_margins_data = margins_data[~((margins_data['Margin per sqm'] < (Q1 - 1.5 * IQR)) | (margins_data['Margin per sqm'] > (Q3 + 1.5 * IQR)))]\n",
    "\n",
    "# Plot the boxplots\n",
    "fig = px.box(filtered_margins_data, x='Commission Level', y='Margin per sqm', title='Margins per sqm at Increasing Levels of Sales Commission')\n",
    "fig.update_layout(xaxis_title='Commission Level', yaxis_title='Margin per sqm')\n",
    "fig.show()"
   ]
  },
  {
   "cell_type": "code",
   "execution_count": null,
   "metadata": {},
   "outputs": [],
   "source": []
  },
  {
   "cell_type": "code",
   "execution_count": null,
   "metadata": {},
   "outputs": [],
   "source": []
  }
 ],
 "metadata": {
  "kernelspec": {
   "display_name": "urw",
   "language": "python",
   "name": "python3"
  },
  "language_info": {
   "codemirror_mode": {
    "name": "ipython",
    "version": 3
   },
   "file_extension": ".py",
   "mimetype": "text/x-python",
   "name": "python",
   "nbconvert_exporter": "python",
   "pygments_lexer": "ipython3",
   "version": "3.10.16"
  }
 },
 "nbformat": 4,
 "nbformat_minor": 2
}
