{
 "cells": [
  {
   "cell_type": "code",
   "execution_count": null,
   "metadata": {},
   "outputs": [],
   "source": [
    "import pandas as pd\n",
    "import plotly.express as px\n",
    "import numpy as np\n",
    "from utils import plot_best_worst_malls_mix, get_best_worst_malls\n",
    "\n",
    "mall = pd.read_csv('../data/v1/mall.csv')\n",
    "cost = pd.read_csv('../data/v1/cost.csv')\n",
    "store = pd.read_csv('../data/v1/store.csv')\n",
    "store_to_external_mall = pd.read_csv('../data/v1/referenciel_traffic.csv')\n",
    "\n",
    "mall.set_index('mall_id', inplace=True)\n",
    "mall['is_third_party'] = mall['mall_country'].str.contains('Third Parties').astype(int)\n",
    "\n",
    "cost.fillna(0, inplace=True)\n",
    "cost['rent_incentive_r12m'] = cost['rent_incentive_r12m'] * -1\n",
    "cost[\"total_cost_r12m\"] = np.sum(\n",
    "    np.array([cost[i].values for i in cost.columns if i.endswith('r12m')])\n",
    ", axis=0)\n",
    "\n",
    "\n",
    "store.drop(columns=[\n",
    "    'store_name',\n",
    "    ], inplace=True)\n",
    "\n",
    "store = store.join(mall, on='mall_id')\n",
    "store = pd.merge(store, cost[[\"store_id\", \"total_cost_r12m\"]], on='store_id', how='left')\n",
    "store.dropna(subset=[\n",
    "    'store_id',\n",
    "    'store_sales_r12m',\n",
    "    'store_rent_r12m',\n",
    "                     ], inplace=True)\n",
    "\n",
    "\n",
    "store_to_external_mall.dropna(inplace=True)\n",
    "store_to_external_mall.store_id = store_to_external_mall.store_id.astype(int)\n",
    "store_to_external_mall.block_id = store_to_external_mall.block_id.astype(int)\n",
    "store_to_external_mall.external_mall_id = store_to_external_mall.external_mall_id.astype(int)\n",
    "store_to_external_mall.set_index('store_id', inplace=True)\n",
    "\n",
    "store_index = store[[\"store_id\", \"mall_id\"]]\n",
    "mall_to_external_mall = store_index.join(store_to_external_mall, on='store_id', how='left')[['mall_id', 'external_mall_id']]\n",
    "mall_to_external_mall = mall_to_external_mall.dropna().drop_duplicates()\n"
   ]
  },
  {
   "cell_type": "markdown",
   "metadata": {},
   "source": [
    "## France"
   ]
  },
  {
   "cell_type": "code",
   "execution_count": null,
   "metadata": {},
   "outputs": [],
   "source": [
    "store_france = store.copy()[store['mall_country'] == 'France']"
   ]
  },
  {
   "cell_type": "code",
   "execution_count": null,
   "metadata": {},
   "outputs": [],
   "source": [
    "mall_france = (\n",
    "    store_france.groupby(\"mall_id\")\n",
    "    .agg(\n",
    "        {\n",
    "            \"store_sales_r12m\": \"sum\",\n",
    "            \"store_rent_r12m\": \"sum\",\n",
    "            \"total_cost_r12m\": \"sum\",\n",
    "            \"total_mall_area\": \"first\",\n",
    "        }\n",
    "    )\n",
    "    .reset_index()\n",
    ")\n",
    "\n",
    "\n",
    "mall_france[\"sales_per_sqm\"] = (\n",
    "    mall_france[\"store_sales_r12m\"] / mall_france[\"total_mall_area\"]\n",
    ")\n",
    "mall_france[\"rent_per_sqm\"] = (\n",
    "    mall_france[\"store_rent_r12m\"] / mall_france[\"total_mall_area\"]\n",
    ")\n",
    "\n",
    "\n",
    "mall_france.sort_values(by=\"sales_per_sqm\", ascending=False, inplace=True)\n",
    "\n",
    "mall_france['rev_1pc'] = (mall_france['store_sales_r12m'] * 0.01 + mall_france['store_rent_r12m'] - mall_france['total_cost_r12m']) / mall_france['total_mall_area']\n",
    "mall_france['rev_2pc'] = (mall_france['store_sales_r12m'] * 0.02 + mall_france['store_rent_r12m'] - mall_france['total_cost_r12m']) / mall_france['total_mall_area']\n",
    "mall_france['rev_5pc'] = (mall_france['store_sales_r12m'] * 0.05 + mall_france['store_rent_r12m'] - mall_france['total_cost_r12m']) / mall_france['total_mall_area']\n",
    "mall_france['rev_10pc'] = (mall_france['store_sales_r12m'] * 0.10 + mall_france['store_rent_r12m'] - mall_france['total_cost_r12m']) / mall_france['total_mall_area']"
   ]
  },
  {
   "cell_type": "code",
   "execution_count": null,
   "metadata": {},
   "outputs": [],
   "source": [
    "best_malls_sales, worst_malls_sales = get_best_worst_malls(mall_france, 'sales_per_sqm')\n",
    "best_malls_rev_1pc, worst_malls_rev_1pc = get_best_worst_malls(mall_france, 'rev_1pc')\n",
    "best_malls_rev_2pc, worst_malls_rev_2pc = get_best_worst_malls(mall_france, 'rev_2pc')\n",
    "best_malls_rev_5pc, worst_malls_rev_5pc = get_best_worst_malls(mall_france, 'rev_5pc')\n",
    "best_malls_rev_10pc, worst_malls_rev_10pc = get_best_worst_malls(mall_france, 'rev_10pc')"
   ]
  },
  {
   "cell_type": "code",
   "execution_count": null,
   "metadata": {},
   "outputs": [],
   "source": [
    "fig = plot_best_worst_malls_mix(store_france, best_malls_sales, worst_malls_sales, 'sales_per_sqm', 'Best vs Worst Malls by Sales per sqm')\n",
    "\n",
    "fig.update_layout(width=800, height=600)"
   ]
  },
  {
   "cell_type": "code",
   "execution_count": null,
   "metadata": {},
   "outputs": [],
   "source": [
    "plot_best_worst_malls_mix(store_france, best_malls_rev_1pc, worst_malls_rev_1pc, 'rev_1pc', 'Best vs Worst Malls, Rent + 1% Sales - Costs')"
   ]
  },
  {
   "cell_type": "code",
   "execution_count": null,
   "metadata": {},
   "outputs": [],
   "source": [
    "fig = plot_best_worst_malls_mix(\n",
    "    store_france,\n",
    "    best_malls_rev_2pc,\n",
    "    worst_malls_rev_2pc,\n",
    "    \"rev_2pc\",\n",
    "    \"Best vs Worst Malls, Rent + 2% Sales - Costs\",\n",
    ")\n",
    "\n",
    "\n",
    "fig.update_layout(width=800, height=600)\n",
    "fig.write_html(\"../assets/best_worst_malls.html\")"
   ]
  },
  {
   "cell_type": "code",
   "execution_count": null,
   "metadata": {},
   "outputs": [],
   "source": [
    "fig = plot_best_worst_malls_mix(store_france, best_malls_rev_5pc, worst_malls_rev_5pc, 'rev_5pc', 'Tenant mix in best, worst malls')\n",
    "fig.update_layout(width=1000, height=600)\n",
    "fig.update_xaxes(tickfont=dict(size=16))"
   ]
  },
  {
   "cell_type": "code",
   "execution_count": null,
   "metadata": {},
   "outputs": [],
   "source": [
    "pd.merge(worst_malls_rev_5pc, mall.reset_index(), on='mall_id', how='left')"
   ]
  },
  {
   "cell_type": "code",
   "execution_count": null,
   "metadata": {},
   "outputs": [],
   "source": [
    "best_malls_rev_5pc"
   ]
  },
  {
   "cell_type": "code",
   "execution_count": null,
   "metadata": {},
   "outputs": [],
   "source": [
    "# Extract data for mall_id 23\n",
    "mall_23 = mall_france[mall_france['mall_id'] == 23]\n",
    "\n",
    "# Combine data for mall_id 23 and the best malls\n",
    "comparison_df = pd.concat([mall_23, best_malls_rev_5pc])\n",
    "\n",
    "# Select relevant columns for comparison\n",
    "comparison_df = comparison_df[['mall_id', 'store_sales_r12m', 'store_rent_r12m', 'total_cost_r12m']]\n",
    "comparison_df = pd.merge(comparison_df, mall.reset_index(), on='mall_id', how='left')\n",
    "# Reset index for better readability\n",
    "comparison_df.reset_index(drop=True, inplace=True)\n",
    "\n",
    "comparison_df"
   ]
  },
  {
   "cell_type": "code",
   "execution_count": null,
   "metadata": {},
   "outputs": [],
   "source": [
    "# Create a bar plot using Plotly\n",
    "comparison_df['sales_per_sqm'] = comparison_df['store_sales_r12m'] / comparison_df['total_mall_area']\n",
    "fig = px.bar(\n",
    "    comparison_df,\n",
    "    x='mall_name',\n",
    "    y='sales_per_sqm',\n",
    "    color='mall_id',\n",
    "    title='Sales per sqm Comparison',\n",
    "    labels={'sales_per_sqm': 'Sales per sqm', 'mall_name': 'Mall Name'},\n",
    "    color_discrete_map={23: 'red'}\n",
    ")\n",
    "\n",
    "# Update layout for better readability\n",
    "fig.update_layout(\n",
    "    xaxis_title='Mall Name',\n",
    "    yaxis_title='Sales per sqm',\n",
    "    legend_title='Mall ID',\n",
    "    xaxis_tickangle=-45,\n",
    "    width=800,\n",
    "    height=600\n",
    ")\n",
    "\n",
    "# Update the color of all bars except mall_id = 23 to blue\n",
    "for data in fig.data:\n",
    "    data.marker.color = ['#EF553B' if mall_id == 23 else '#636EFA' for mall_id in comparison_df['mall_id']]\n",
    "\n",
    "# Show the plot\n",
    "fig.show()\n"
   ]
  },
  {
   "cell_type": "code",
   "execution_count": null,
   "metadata": {},
   "outputs": [],
   "source": [
    "# Create a bar plot using Plotly\n",
    "comparison_df['rent_per_sqm'] = comparison_df['store_rent_r12m'] / comparison_df['total_mall_area']\n",
    "fig = px.bar(\n",
    "    comparison_df,\n",
    "    x='mall_name',\n",
    "    y='rent_per_sqm',\n",
    "    color='mall_id',\n",
    "    title='Rent per sqm Comparison',\n",
    "    labels={'rent_per_sqm': 'Rent per sqm', 'mall_name': 'Mall Name'},\n",
    "    color_discrete_map={23: 'red'}\n",
    ")\n",
    "\n",
    "# Update layout for better readability\n",
    "fig.update_layout(\n",
    "    xaxis_title='Mall Name',\n",
    "    yaxis_title='Rent per sqm',\n",
    "    legend_title='Mall ID',\n",
    "    xaxis_tickangle=-45,\n",
    "    width=800,\n",
    "    height=600\n",
    ")\n",
    "\n",
    "# Update the color of all bars except mall_id = 23 to blue\n",
    "for data in fig.data:\n",
    "    data.marker.color = ['#EF553B' if mall_id == 23 else '#636EFA' for mall_id in comparison_df['mall_id']]\n",
    "\n",
    "# Show the plot\n",
    "fig.show()"
   ]
  },
  {
   "cell_type": "code",
   "execution_count": null,
   "metadata": {},
   "outputs": [],
   "source": [
    "# Create a bar plot using Plotly\n",
    "comparison_df['total_cost_per_sqm'] = comparison_df['total_cost_r12m'] / comparison_df['total_mall_area']\n",
    "fig = px.bar(\n",
    "    comparison_df,\n",
    "    x='mall_name',\n",
    "    y='total_cost_per_sqm',\n",
    "    color='mall_id',\n",
    "    title='Total Cost per sqm Comparison',\n",
    "    labels={'total_cost_per_sqm': 'Total Cost per sqm', 'mall_name': 'Mall Name'},\n",
    "    color_discrete_map={23: 'red'}\n",
    ")\n",
    "\n",
    "# Update layout for better readability\n",
    "fig.update_layout(\n",
    "    xaxis_title='Mall Name',\n",
    "    yaxis_title='Total Cost per sqm',\n",
    "    legend_title='Mall ID',\n",
    "    xaxis_tickangle=-45,\n",
    "    width=800,\n",
    "    height=600\n",
    ")\n",
    "\n",
    "# Update the color of all bars except mall_id = 23 to blue\n",
    "for data in fig.data:\n",
    "    data.marker.color = ['#EF553B' if mall_id == 23 else '#636EFA' for mall_id in comparison_df['mall_id']]\n",
    "\n",
    "# Show the plot\n",
    "fig.show()"
   ]
  },
  {
   "cell_type": "code",
   "execution_count": null,
   "metadata": {},
   "outputs": [],
   "source": [
    "plot_best_worst_malls_mix(store_france, best_malls_rev_10pc, worst_malls_rev_10pc, 'rev_10pc', 'Best vs Worst Malls, Rent + 10% Sales - Costs')"
   ]
  }
 ],
 "metadata": {
  "kernelspec": {
   "display_name": "urw",
   "language": "python",
   "name": "python3"
  },
  "language_info": {
   "codemirror_mode": {
    "name": "ipython",
    "version": 3
   },
   "file_extension": ".py",
   "mimetype": "text/x-python",
   "name": "python",
   "nbconvert_exporter": "python",
   "pygments_lexer": "ipython3",
   "version": "3.10.16"
  }
 },
 "nbformat": 4,
 "nbformat_minor": 2
}
