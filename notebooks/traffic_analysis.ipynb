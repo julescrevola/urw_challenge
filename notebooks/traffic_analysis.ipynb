{
 "cells": [
  {
   "cell_type": "code",
   "execution_count": null,
   "metadata": {},
   "outputs": [],
   "source": [
    "# Imports\n",
    "import pandas as pd\n",
    "import numpy as np\n",
    "import matplotlib.pyplot as plt"
   ]
  },
  {
   "cell_type": "code",
   "execution_count": null,
   "metadata": {},
   "outputs": [],
   "source": [
    "# Loading data\n",
    "DATA_PATH = \"../data/\"\n",
    "\n",
    "mall = pd.read_csv(f'{DATA_PATH}mall_v1.csv')\n",
    "store = pd.read_csv(f'{DATA_PATH}store_v1.csv')\n",
    "cost = pd.read_csv(f'{DATA_PATH}cost_v1.csv')\n",
    "traffic_store = pd.read_csv(f'{DATA_PATH}people_flow_v1.csv')\n",
    "traffic_mall = pd.read_csv(f'{DATA_PATH}mall_traffic.csv')\n",
    "ref_traffic = pd.read_csv(f'{DATA_PATH}referenciel_traffic_v1.csv')\n",
    "dwell_time = pd.read_csv(f'{DATA_PATH}dwell_time_v1.csv')"
   ]
  },
  {
   "cell_type": "code",
   "execution_count": null,
   "metadata": {},
   "outputs": [],
   "source": [
    "# Merging all dataframes to conduct analyses\n",
    "traffic_store_final = pd.merge(left=ref_traffic, right=traffic_store, on=[\"block_id\", \"external_mall_id\"])\n",
    "traffic_store_final = pd.merge(left=dwell_time, right=traffic_store_final, on=[\"block_id\", \"external_mall_id\"])\n",
    "\n",
    "store_final = pd.merge(left=store, right=traffic_store_final, on=\"store_id\")\n",
    "store_final = pd.merge(left=store_final, right=mall, on=\"mall_id\")\n",
    "\n",
    "cost[\"store_id\"] = cost[\"store_id\"].fillna(0)\n",
    "cost[\"store_id\"] = cost[\"store_id\"].astype(int)\n",
    "\n",
    "store_final = pd.merge(left=store_final, right=cost, on=\"store_id\")\n",
    "store_final = pd.merge(left=store_final, right=traffic_mall, on=\"external_mall_id\")"
   ]
  },
  {
   "cell_type": "code",
   "execution_count": null,
   "metadata": {},
   "outputs": [],
   "source": [
    "store_final.head()"
   ]
  },
  {
   "cell_type": "code",
   "execution_count": null,
   "metadata": {},
   "outputs": [],
   "source": [
    "store_final = store_final.drop(columns=['external_mall_id', 'block_id'])"
   ]
  },
  {
   "cell_type": "code",
   "execution_count": null,
   "metadata": {},
   "outputs": [],
   "source": [
    "store_final.groupby(\"mall_country\").mean(\"avg_dwell_time\")[\"avg_dwell_time\"].plot(kind='bar', title=\"Average mall dwell time per country\")\n",
    "plt.show()"
   ]
  },
  {
   "cell_type": "code",
   "execution_count": null,
   "metadata": {},
   "outputs": [],
   "source": [
    "# Filter the data for France\n",
    "store_final_france = store_final[store_final['mall_country'] == 'France']\n",
    "\n",
    "# Group by store branch level 1 and sum the sales\n",
    "sales_per_branch = store_final_france.groupby('store_branch_level_1')['store_sales_r12m'].sum()\n",
    "\n",
    "# Plot the sales per store branch level 1\n",
    "sales_per_branch.plot(kind='bar', title='Sales per Store Branch Level 1 in France')\n",
    "plt.ylabel('Sales')\n",
    "plt.show()"
   ]
  },
  {
   "cell_type": "code",
   "execution_count": null,
   "metadata": {},
   "outputs": [],
   "source": [
    "# Calculate the average dwell time and total sales per store branch level 1 in France\n",
    "avg_dwell_time_sales = store_final_france.groupby('store_branch_level_1').agg({\n",
    "    'average_dwell_time': 'mean',\n",
    "    'store_sales_r12m': 'sum'\n",
    "})\n",
    "\n",
    "# Define a colormap\n",
    "cmap = plt.get_cmap('tab20')\n",
    "\n",
    "# Create a color for each store branch level 1\n",
    "colors = {category: cmap(i) for i, category in enumerate(avg_dwell_time_sales.index)}\n",
    "\n",
    "# Plot the scatter plot with colors\n",
    "fig, ax = plt.subplots()\n",
    "for category, color in colors.items():\n",
    "    data = avg_dwell_time_sales.loc[category]\n",
    "    ax.scatter(data['store_sales_r12m'], data['average_dwell_time'], label=category, color=color)\n",
    "\n",
    "# Add legend\n",
    "ax.legend(title='Store Branch Level 1', bbox_to_anchor=(1.05, 1), loc='upper left')\n",
    "ax.set_title('Average Dwell Time vs Sales in France by Store Branch Level 1')\n",
    "ax.set_xlabel('Total Sales')\n",
    "ax.set_ylabel('Average Dwell Time')\n",
    "plt.show()\n"
   ]
  },
  {
   "cell_type": "code",
   "execution_count": null,
   "metadata": {},
   "outputs": [],
   "source": [
    "# Calculate the average traffic and total sales per store branch level 1 in France\n",
    "avg_traffic_sales = store_final_france.groupby('store_branch_level_1').agg({\n",
    "    'store_total_visits': 'sum',\n",
    "    'store_sales_r12m': 'sum'\n",
    "})\n",
    "\n",
    "# Define a colormap\n",
    "cmap = plt.get_cmap('tab20')\n",
    "\n",
    "# Create a color for each store branch level 1\n",
    "colors = {category: cmap(i) for i, category in enumerate(avg_traffic_sales.index)}\n",
    "\n",
    "# Plot the scatter plot with colors\n",
    "fig, ax = plt.subplots()\n",
    "for category, color in colors.items():\n",
    "    data = avg_traffic_sales.loc[category]\n",
    "    ax.scatter(data['store_sales_r12m'], data['store_total_visits'], label=category, color=color)\n",
    "\n",
    "# Add legend\n",
    "ax.legend(title='Store Branch Level 1', bbox_to_anchor=(1.05, 1), loc='upper left')\n",
    "ax.set_title('Number of Visitors vs Sales in France by Store Branch Level 1')\n",
    "ax.set_xlabel('Total Sales')\n",
    "ax.set_ylabel('Number of visitors')\n",
    "plt.show()\n"
   ]
  },
  {
   "cell_type": "code",
   "execution_count": null,
   "metadata": {},
   "outputs": [],
   "source": [
    "# Filter the data for France\n",
    "store_final_france = store_final[store_final['mall_country'] == 'France']\n",
    "\n",
    "# Define a colormap\n",
    "cmap = plt.get_cmap('tab20')\n",
    "\n",
    "# Create a color for each store branch level 1\n",
    "colors = {category: cmap(i) for i, category in enumerate(store_final_france['store_branch_level_1'].unique())}\n",
    "\n",
    "# Plot the scatter plot with colors\n",
    "fig, ax = plt.subplots()\n",
    "for category, color in colors.items():\n",
    "    data = store_final_france[store_final_france['store_branch_level_1'] == category]\n",
    "    ax.scatter(data['store_sales_r12m'], data['average_dwell_time'], label=category, color=color)\n",
    "\n",
    "# Add legend\n",
    "ax.legend(title='Store Branch Level 1', bbox_to_anchor=(1.05, 1), loc='upper left')\n",
    "ax.set_title('Sales vs Average Dwell Time in France by Store Branch Level 1')\n",
    "ax.set_xlabel('Total Sales')\n",
    "ax.set_ylabel('Average Dwell Time')\n",
    "plt.show()"
   ]
  },
  {
   "cell_type": "code",
   "execution_count": null,
   "metadata": {},
   "outputs": [],
   "source": [
    "# Calculate total sales and total costs per store branch level 1 globally\n",
    "global_sales_costs = store_final.groupby('store_branch_level_1').agg({\n",
    "    'store_sales_r12m': 'sum',\n",
    "    'service_charges_r12m': 'sum',\n",
    "    'marketing_costs_r12m': 'sum',\n",
    "    'administration_fees_r12m': 'sum',\n",
    "    'real_estate_taxes_r12m': 'sum',\n",
    "    'large_scale_works_r12m': 'sum',\n",
    "    'maintenance_works_r12m': 'sum',\n",
    "    'store_rent_r12m': 'sum'\n",
    "})\n",
    "\n",
    "# Sum all costs columns to get total costs\n",
    "global_sales_costs['total_costs'] = global_sales_costs[['service_charges_r12m', 'marketing_costs_r12m', 'administration_fees_r12m', 'real_estate_taxes_r12m', 'large_scale_works_r12m', 'maintenance_works_r12m']].sum(axis=1)\n",
    "\n",
    "# Define a colormap\n",
    "cmap = plt.get_cmap('tab20')\n",
    "\n",
    "# Create a color for each store branch level 1\n",
    "colors = {category: cmap(i) for i, category in enumerate(global_sales_costs.index)}\n",
    "\n",
    "# Plot sales vs costs globally\n",
    "fig, ax = plt.subplots()\n",
    "for category, color in colors.items():\n",
    "    data = global_sales_costs.loc[category]\n",
    "    ax.scatter(data['store_sales_r12m'], data['total_costs'], label=category, color=color)\n",
    "    # ax.annotate(category, (data['store_sales_r12m'], data['total_costs']), fontsize=8)\n",
    "\n",
    "# Add legend\n",
    "ax.legend(title='Store Branch Level 1', bbox_to_anchor=(1.05, 1), loc='upper left')\n",
    "ax.set_title('Sales vs Costs Globally by Store Branch Level 1')\n",
    "ax.set_xlabel('Total Sales')\n",
    "ax.set_ylabel('Total Costs')\n",
    "plt.show()\n",
    "\n",
    "# Calculate total sales and total costs per store branch level 1 in France\n",
    "france_sales_costs = store_final_france.groupby('store_branch_level_1').agg({\n",
    "    'store_sales_r12m': 'sum',\n",
    "    'service_charges_r12m': 'sum',\n",
    "    'marketing_costs_r12m': 'sum',\n",
    "    'administration_fees_r12m': 'sum',\n",
    "    'real_estate_taxes_r12m': 'sum',\n",
    "    'large_scale_works_r12m': 'sum',\n",
    "    'maintenance_works_r12m': 'sum',\n",
    "    'store_rent_r12m': 'sum'\n",
    "})\n",
    "\n",
    "# Sum all costs columns to get total costs\n",
    "france_sales_costs['total_costs'] = france_sales_costs[['service_charges_r12m', 'marketing_costs_r12m', 'administration_fees_r12m', 'real_estate_taxes_r12m', 'large_scale_works_r12m', 'maintenance_works_r12m']].sum(axis=1)\n",
    "\n",
    "# Plot sales vs costs in France\n",
    "fig, ax = plt.subplots()\n",
    "for category, color in colors.items():\n",
    "    if category in france_sales_costs.index:\n",
    "        data = france_sales_costs.loc[category]\n",
    "        ax.scatter(data['store_sales_r12m'], data['total_costs'], label=category, color=color)\n",
    "        # ax.annotate(category, (data['store_sales_r12m'], data['total_costs']), fontsize=8)\n",
    "\n",
    "# Add legend\n",
    "ax.legend(title='Store Branch Level 1', bbox_to_anchor=(1.05, 1), loc='upper left')\n",
    "ax.set_title('Sales vs Costs in France by Store Branch Level 1')\n",
    "ax.set_xlabel('Total Sales')\n",
    "ax.set_ylabel('Total Costs')\n",
    "plt.show()"
   ]
  },
  {
   "cell_type": "code",
   "execution_count": null,
   "metadata": {},
   "outputs": [],
   "source": [
    "# Calculate the total costs per category globally\n",
    "global_costs = global_sales_costs[['service_charges_r12m', 'marketing_costs_r12m', 'administration_fees_r12m', 'real_estate_taxes_r12m', 'large_scale_works_r12m', 'maintenance_works_r12m', 'store_rent_r12m']].sum().sort_values(ascending=False)\n",
    "\n",
    "# Plot the total costs per category globally\n",
    "global_costs.plot(kind='bar', title='Total Costs per Category Globally')\n",
    "plt.ylabel('Total Costs')\n",
    "plt.show()\n",
    "\n",
    "# Calculate the total costs per category in France\n",
    "france_costs = france_sales_costs[['service_charges_r12m', 'marketing_costs_r12m', 'administration_fees_r12m', 'real_estate_taxes_r12m', 'large_scale_works_r12m', 'maintenance_works_r12m', 'store_rent_r12m']].sum().sort_values(ascending=False)\n",
    "\n",
    "# Plot the total costs per category in France\n",
    "france_costs.plot(kind='bar', title='Total Costs per Category in France')\n",
    "plt.ylabel('Total Costs')\n",
    "plt.show()\n",
    "\n",
    "# Calculate the highest and lowest cost categories per country\n",
    "highest_costs_per_country = store_final.groupby('mall_country')[['service_charges_r12m', 'marketing_costs_r12m', 'administration_fees_r12m', 'real_estate_taxes_r12m', 'large_scale_works_r12m', 'maintenance_works_r12m', 'store_rent_r12m']].sum().idxmax(axis=1)\n",
    "lowest_costs_per_country = store_final.groupby('mall_country')[['service_charges_r12m', 'marketing_costs_r12m', 'administration_fees_r12m', 'real_estate_taxes_r12m', 'large_scale_works_r12m', 'maintenance_works_r12m', 'store_rent_r12m']].sum().idxmin(axis=1)\n",
    "\n",
    "# Plot the highest cost categories per country\n",
    "highest_costs_per_country.value_counts().plot(kind='bar', title='Highest Cost Categories per Country')\n",
    "plt.ylabel('Number of Countries')\n",
    "plt.show()\n",
    "\n",
    "# Plot the lowest cost categories per country\n",
    "lowest_costs_per_country.value_counts().plot(kind='bar', title='Lowest Cost Categories per Country')\n",
    "plt.ylabel('Number of Countries')\n",
    "plt.show()"
   ]
  },
  {
   "cell_type": "code",
   "execution_count": null,
   "metadata": {},
   "outputs": [],
   "source": [
    "# Define a colormap\n",
    "cmap = plt.get_cmap('tab20')\n",
    "\n",
    "# Create a color for each store branch level 1\n",
    "colors = {category: cmap(i) for i, category in enumerate(store['store_branch_level_1'].unique())}\n",
    "\n",
    "# Plot the scatter plot globally\n",
    "fig, ax = plt.subplots()\n",
    "for category, color in colors.items():\n",
    "    data = store[store['store_branch_level_1'] == category]\n",
    "    ax.scatter(data['store_sales_r12m'], data['store_rent_r12m'], label=category, color=color)\n",
    "\n",
    "# Add legend\n",
    "ax.legend(title='Store Branch Level 1', bbox_to_anchor=(1.05, 1), loc='upper left')\n",
    "ax.set_title('Sales vs Rent Globally by Store Branch Level 1')\n",
    "ax.set_xlabel('Total Sales')\n",
    "ax.set_ylabel('Total Rent')\n",
    "plt.show()\n",
    "\n",
    "# Filter the data for France\n",
    "store_france = store_final[store_final['mall_country'] == 'France']\n",
    "\n",
    "# Plot the scatter plot for France\n",
    "fig, ax = plt.subplots()\n",
    "for category, color in colors.items():\n",
    "    data = store_france[store_france['store_branch_level_1'] == category]\n",
    "    ax.scatter(data['store_sales_r12m'], data['store_rent_r12m'], label=category, color=color)\n",
    "\n",
    "# Add legend\n",
    "ax.legend(title='Store Branch Level 1', bbox_to_anchor=(1.05, 1), loc='upper left')\n",
    "ax.set_title('Sales vs Rent in France by Store Branch Level 1')\n",
    "ax.set_xlabel('Total Sales')\n",
    "ax.set_ylabel('Total Rent')\n",
    "plt.show()"
   ]
  },
  {
   "cell_type": "code",
   "execution_count": null,
   "metadata": {},
   "outputs": [],
   "source": [
    "store"
   ]
  },
  {
   "cell_type": "code",
   "execution_count": null,
   "metadata": {},
   "outputs": [],
   "source": [
    "store_final.columns"
   ]
  },
  {
   "cell_type": "code",
   "execution_count": null,
   "metadata": {},
   "outputs": [],
   "source": [
    "cost"
   ]
  },
  {
   "cell_type": "code",
   "execution_count": null,
   "metadata": {},
   "outputs": [],
   "source": []
  }
 ],
 "metadata": {
  "kernelspec": {
   "display_name": "urw",
   "language": "python",
   "name": "python3"
  },
  "language_info": {
   "codemirror_mode": {
    "name": "ipython",
    "version": 3
   },
   "file_extension": ".py",
   "mimetype": "text/x-python",
   "name": "python",
   "nbconvert_exporter": "python",
   "pygments_lexer": "ipython3",
   "version": "3.12.8"
  }
 },
 "nbformat": 4,
 "nbformat_minor": 2
}
