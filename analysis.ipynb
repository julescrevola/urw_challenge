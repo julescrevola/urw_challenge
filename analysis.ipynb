{
 "cells": [
  {
   "cell_type": "code",
   "execution_count": 1,
   "metadata": {},
   "outputs": [],
   "source": [
    "import pandas as pd\n",
    "import plotly.express as px\n",
    "\n",
    "mall = pd.read_csv('data/v1/mall.csv')\n",
    "cost = pd.read_csv('data/v1/cost.csv')\n",
    "traffic_block_level = pd.read_csv('data/v1/people_flow.csv')\n",
    "store_to_external_mall = pd.read_csv('data/v1/referenciel_traffic.csv')\n",
    "traffic_mall_level = pd.read_csv('data/v1/mall_traffic_data.csv')\n",
    "store = pd.read_csv('data/v1/store.csv')\n",
    "dwell_time = pd.read_csv('data/v1/dwell_time.csv')\n",
    "# mall_name_mapping = pd.read_json('../data/v1/mapping_mall.json', typ='series') not useful\n",
    "\n",
    "\n",
    "\n",
    "mall.set_index('mall_id', inplace=True)\n",
    "mall['is_third_party'] = mall['mall_country'].str.contains('Third Parties').astype(int)\n",
    "\n",
    "\n",
    "store.drop(columns=[\n",
    "    # 'store_year_closed',\n",
    "    # 'store_year_opened',\n",
    "    'store_name',\n",
    "    \n",
    "    ], inplace=True)\n",
    "store = store.join(mall, on='mall_id')\n",
    "\n",
    "store_to_external_mall.dropna(inplace=True)\n",
    "store_to_external_mall.store_id = store_to_external_mall.store_id.astype(int)\n",
    "store_to_external_mall.block_id = store_to_external_mall.block_id.astype(int)\n",
    "store_to_external_mall.external_mall_id = store_to_external_mall.external_mall_id.astype(int)\n",
    "store_to_external_mall.set_index('store_id', inplace=True)\n",
    "\n",
    "store_index = store[[\"store_id\", \"mall_id\"]]\n",
    "mall_to_external_mall = store_index.join(store_to_external_mall, on='store_id', how='left')[['mall_id', 'external_mall_id']]\n",
    "mall_to_external_mall = mall_to_external_mall.dropna().drop_duplicates()\n",
    "\n",
    "traffic_block_level = traffic_block_level[traffic_block_level['days_with_traffic_data'] >= 5]\n"
   ]
  },
  {
   "cell_type": "code",
   "execution_count": 2,
   "metadata": {},
   "outputs": [
    {
     "data": {
      "text/html": [
       "<div>\n",
       "<style scoped>\n",
       "    .dataframe tbody tr th:only-of-type {\n",
       "        vertical-align: middle;\n",
       "    }\n",
       "\n",
       "    .dataframe tbody tr th {\n",
       "        vertical-align: top;\n",
       "    }\n",
       "\n",
       "    .dataframe thead th {\n",
       "        text-align: right;\n",
       "    }\n",
       "</style>\n",
       "<table border=\"1\" class=\"dataframe\">\n",
       "  <thead>\n",
       "    <tr style=\"text-align: right;\">\n",
       "      <th></th>\n",
       "      <th>mall_name</th>\n",
       "      <th>mall_country</th>\n",
       "      <th>total_mall_area</th>\n",
       "      <th>is_third_party</th>\n",
       "    </tr>\n",
       "    <tr>\n",
       "      <th>mall_id</th>\n",
       "      <th></th>\n",
       "      <th></th>\n",
       "      <th></th>\n",
       "      <th></th>\n",
       "    </tr>\n",
       "  </thead>\n",
       "  <tbody>\n",
       "    <tr>\n",
       "      <th>0</th>\n",
       "      <td>Westfield Donau Zentrum</td>\n",
       "      <td>Austria</td>\n",
       "      <td>108440.8</td>\n",
       "      <td>0</td>\n",
       "    </tr>\n",
       "    <tr>\n",
       "      <th>1</th>\n",
       "      <td>Westfield Shopping City Süd</td>\n",
       "      <td>Austria</td>\n",
       "      <td>120306.9</td>\n",
       "      <td>0</td>\n",
       "    </tr>\n",
       "    <tr>\n",
       "      <th>2</th>\n",
       "      <td>Centrum Černý Most</td>\n",
       "      <td>Czech Republic</td>\n",
       "      <td>73294.3</td>\n",
       "      <td>0</td>\n",
       "    </tr>\n",
       "    <tr>\n",
       "      <th>3</th>\n",
       "      <td>Metropole Zličín</td>\n",
       "      <td>Czech Republic</td>\n",
       "      <td>47569.9</td>\n",
       "      <td>0</td>\n",
       "    </tr>\n",
       "    <tr>\n",
       "      <th>4</th>\n",
       "      <td>Westfield Chodov</td>\n",
       "      <td>Czech Republic</td>\n",
       "      <td>91831.5</td>\n",
       "      <td>0</td>\n",
       "    </tr>\n",
       "    <tr>\n",
       "      <th>...</th>\n",
       "      <td>...</td>\n",
       "      <td>...</td>\n",
       "      <td>...</td>\n",
       "      <td>...</td>\n",
       "    </tr>\n",
       "    <tr>\n",
       "      <th>81</th>\n",
       "      <td>Westfield Valley Fair</td>\n",
       "      <td>USA</td>\n",
       "      <td>93617.0</td>\n",
       "      <td>0</td>\n",
       "    </tr>\n",
       "    <tr>\n",
       "      <th>82</th>\n",
       "      <td>Westfield Galleria at Roseville</td>\n",
       "      <td>USA</td>\n",
       "      <td>62297.6</td>\n",
       "      <td>0</td>\n",
       "    </tr>\n",
       "    <tr>\n",
       "      <th>83</th>\n",
       "      <td>Westfield Wheaton</td>\n",
       "      <td>USA</td>\n",
       "      <td>118554.4</td>\n",
       "      <td>0</td>\n",
       "    </tr>\n",
       "    <tr>\n",
       "      <th>84</th>\n",
       "      <td>Westfield Fulton Center</td>\n",
       "      <td>USA</td>\n",
       "      <td>941.7</td>\n",
       "      <td>0</td>\n",
       "    </tr>\n",
       "    <tr>\n",
       "      <th>85</th>\n",
       "      <td>Westfield World Trade Center</td>\n",
       "      <td>USA</td>\n",
       "      <td>20188.2</td>\n",
       "      <td>0</td>\n",
       "    </tr>\n",
       "  </tbody>\n",
       "</table>\n",
       "<p>86 rows × 4 columns</p>\n",
       "</div>"
      ],
      "text/plain": [
       "                               mall_name    mall_country  total_mall_area  \\\n",
       "mall_id                                                                     \n",
       "0                Westfield Donau Zentrum         Austria         108440.8   \n",
       "1            Westfield Shopping City Süd         Austria         120306.9   \n",
       "2                     Centrum Černý Most  Czech Republic          73294.3   \n",
       "3                       Metropole Zličín  Czech Republic          47569.9   \n",
       "4                       Westfield Chodov  Czech Republic          91831.5   \n",
       "...                                  ...             ...              ...   \n",
       "81                 Westfield Valley Fair             USA          93617.0   \n",
       "82       Westfield Galleria at Roseville             USA          62297.6   \n",
       "83                     Westfield Wheaton             USA         118554.4   \n",
       "84               Westfield Fulton Center             USA            941.7   \n",
       "85          Westfield World Trade Center             USA          20188.2   \n",
       "\n",
       "         is_third_party  \n",
       "mall_id                  \n",
       "0                     0  \n",
       "1                     0  \n",
       "2                     0  \n",
       "3                     0  \n",
       "4                     0  \n",
       "...                 ...  \n",
       "81                    0  \n",
       "82                    0  \n",
       "83                    0  \n",
       "84                    0  \n",
       "85                    0  \n",
       "\n",
       "[86 rows x 4 columns]"
      ]
     },
     "execution_count": 2,
     "metadata": {},
     "output_type": "execute_result"
    }
   ],
   "source": [
    "mall"
   ]
  },
  {
   "cell_type": "code",
   "execution_count": 4,
   "metadata": {},
   "outputs": [
    {
     "data": {
      "text/html": [
       "<div>\n",
       "<style scoped>\n",
       "    .dataframe tbody tr th:only-of-type {\n",
       "        vertical-align: middle;\n",
       "    }\n",
       "\n",
       "    .dataframe tbody tr th {\n",
       "        vertical-align: top;\n",
       "    }\n",
       "\n",
       "    .dataframe thead th {\n",
       "        text-align: right;\n",
       "    }\n",
       "</style>\n",
       "<table border=\"1\" class=\"dataframe\">\n",
       "  <thead>\n",
       "    <tr style=\"text-align: right;\">\n",
       "      <th></th>\n",
       "      <th>store_id</th>\n",
       "      <th>rent_incentive_r12m</th>\n",
       "      <th>service_charges_r12m</th>\n",
       "      <th>marketing_costs_r12m</th>\n",
       "      <th>administration_fees_r12m</th>\n",
       "      <th>real_estate_taxes_r12m</th>\n",
       "      <th>large_scale_works_r12m</th>\n",
       "      <th>maintenance_works_r12m</th>\n",
       "    </tr>\n",
       "  </thead>\n",
       "  <tbody>\n",
       "    <tr>\n",
       "      <th>0</th>\n",
       "      <td>0.0</td>\n",
       "      <td>NaN</td>\n",
       "      <td>16197.0</td>\n",
       "      <td>10101.0</td>\n",
       "      <td>NaN</td>\n",
       "      <td>NaN</td>\n",
       "      <td>NaN</td>\n",
       "      <td>NaN</td>\n",
       "    </tr>\n",
       "    <tr>\n",
       "      <th>1</th>\n",
       "      <td>55.0</td>\n",
       "      <td>NaN</td>\n",
       "      <td>NaN</td>\n",
       "      <td>14420.0</td>\n",
       "      <td>NaN</td>\n",
       "      <td>NaN</td>\n",
       "      <td>652.0</td>\n",
       "      <td>NaN</td>\n",
       "    </tr>\n",
       "    <tr>\n",
       "      <th>2</th>\n",
       "      <td>259.0</td>\n",
       "      <td>NaN</td>\n",
       "      <td>NaN</td>\n",
       "      <td>2424.0</td>\n",
       "      <td>NaN</td>\n",
       "      <td>NaN</td>\n",
       "      <td>3481.0</td>\n",
       "      <td>44779.0</td>\n",
       "    </tr>\n",
       "    <tr>\n",
       "      <th>3</th>\n",
       "      <td>226.0</td>\n",
       "      <td>NaN</td>\n",
       "      <td>511.0</td>\n",
       "      <td>47797.0</td>\n",
       "      <td>NaN</td>\n",
       "      <td>3452.0</td>\n",
       "      <td>NaN</td>\n",
       "      <td>NaN</td>\n",
       "    </tr>\n",
       "    <tr>\n",
       "      <th>4</th>\n",
       "      <td>104.0</td>\n",
       "      <td>NaN</td>\n",
       "      <td>6509.0</td>\n",
       "      <td>2469.0</td>\n",
       "      <td>NaN</td>\n",
       "      <td>NaN</td>\n",
       "      <td>NaN</td>\n",
       "      <td>NaN</td>\n",
       "    </tr>\n",
       "    <tr>\n",
       "      <th>...</th>\n",
       "      <td>...</td>\n",
       "      <td>...</td>\n",
       "      <td>...</td>\n",
       "      <td>...</td>\n",
       "      <td>...</td>\n",
       "      <td>...</td>\n",
       "      <td>...</td>\n",
       "      <td>...</td>\n",
       "    </tr>\n",
       "    <tr>\n",
       "      <th>14650</th>\n",
       "      <td>15517.0</td>\n",
       "      <td>NaN</td>\n",
       "      <td>15580.0</td>\n",
       "      <td>0.0</td>\n",
       "      <td>NaN</td>\n",
       "      <td>NaN</td>\n",
       "      <td>NaN</td>\n",
       "      <td>NaN</td>\n",
       "    </tr>\n",
       "    <tr>\n",
       "      <th>14651</th>\n",
       "      <td>15505.0</td>\n",
       "      <td>NaN</td>\n",
       "      <td>NaN</td>\n",
       "      <td>0.0</td>\n",
       "      <td>7947.0</td>\n",
       "      <td>NaN</td>\n",
       "      <td>NaN</td>\n",
       "      <td>NaN</td>\n",
       "    </tr>\n",
       "    <tr>\n",
       "      <th>14652</th>\n",
       "      <td>15506.0</td>\n",
       "      <td>NaN</td>\n",
       "      <td>NaN</td>\n",
       "      <td>0.0</td>\n",
       "      <td>NaN</td>\n",
       "      <td>9598.0</td>\n",
       "      <td>NaN</td>\n",
       "      <td>NaN</td>\n",
       "    </tr>\n",
       "    <tr>\n",
       "      <th>14653</th>\n",
       "      <td>15540.0</td>\n",
       "      <td>NaN</td>\n",
       "      <td>73503.0</td>\n",
       "      <td>0.0</td>\n",
       "      <td>NaN</td>\n",
       "      <td>NaN</td>\n",
       "      <td>NaN</td>\n",
       "      <td>NaN</td>\n",
       "    </tr>\n",
       "    <tr>\n",
       "      <th>14654</th>\n",
       "      <td>15513.0</td>\n",
       "      <td>NaN</td>\n",
       "      <td>7301.0</td>\n",
       "      <td>10675.0</td>\n",
       "      <td>NaN</td>\n",
       "      <td>NaN</td>\n",
       "      <td>NaN</td>\n",
       "      <td>NaN</td>\n",
       "    </tr>\n",
       "  </tbody>\n",
       "</table>\n",
       "<p>14655 rows × 8 columns</p>\n",
       "</div>"
      ],
      "text/plain": [
       "       store_id  rent_incentive_r12m  service_charges_r12m  \\\n",
       "0           0.0                  NaN               16197.0   \n",
       "1          55.0                  NaN                   NaN   \n",
       "2         259.0                  NaN                   NaN   \n",
       "3         226.0                  NaN                 511.0   \n",
       "4         104.0                  NaN                6509.0   \n",
       "...         ...                  ...                   ...   \n",
       "14650   15517.0                  NaN               15580.0   \n",
       "14651   15505.0                  NaN                   NaN   \n",
       "14652   15506.0                  NaN                   NaN   \n",
       "14653   15540.0                  NaN               73503.0   \n",
       "14654   15513.0                  NaN                7301.0   \n",
       "\n",
       "       marketing_costs_r12m  administration_fees_r12m  real_estate_taxes_r12m  \\\n",
       "0                   10101.0                       NaN                     NaN   \n",
       "1                   14420.0                       NaN                     NaN   \n",
       "2                    2424.0                       NaN                     NaN   \n",
       "3                   47797.0                       NaN                  3452.0   \n",
       "4                    2469.0                       NaN                     NaN   \n",
       "...                     ...                       ...                     ...   \n",
       "14650                   0.0                       NaN                     NaN   \n",
       "14651                   0.0                    7947.0                     NaN   \n",
       "14652                   0.0                       NaN                  9598.0   \n",
       "14653                   0.0                       NaN                     NaN   \n",
       "14654               10675.0                       NaN                     NaN   \n",
       "\n",
       "       large_scale_works_r12m  maintenance_works_r12m  \n",
       "0                         NaN                     NaN  \n",
       "1                       652.0                     NaN  \n",
       "2                      3481.0                 44779.0  \n",
       "3                         NaN                     NaN  \n",
       "4                         NaN                     NaN  \n",
       "...                       ...                     ...  \n",
       "14650                     NaN                     NaN  \n",
       "14651                     NaN                     NaN  \n",
       "14652                     NaN                     NaN  \n",
       "14653                     NaN                     NaN  \n",
       "14654                     NaN                     NaN  \n",
       "\n",
       "[14655 rows x 8 columns]"
      ]
     },
     "execution_count": 4,
     "metadata": {},
     "output_type": "execute_result"
    }
   ],
   "source": [
    "cost"
   ]
  },
  {
   "cell_type": "code",
   "execution_count": 5,
   "metadata": {},
   "outputs": [
    {
     "data": {
      "text/html": [
       "<div>\n",
       "<style scoped>\n",
       "    .dataframe tbody tr th:only-of-type {\n",
       "        vertical-align: middle;\n",
       "    }\n",
       "\n",
       "    .dataframe tbody tr th {\n",
       "        vertical-align: top;\n",
       "    }\n",
       "\n",
       "    .dataframe thead th {\n",
       "        text-align: right;\n",
       "    }\n",
       "</style>\n",
       "<table border=\"1\" class=\"dataframe\">\n",
       "  <thead>\n",
       "    <tr style=\"text-align: right;\">\n",
       "      <th></th>\n",
       "      <th>block_id</th>\n",
       "      <th>external_mall_id</th>\n",
       "      <th>store_visits_monthly_average</th>\n",
       "      <th>store_window_flow_monthly_average</th>\n",
       "      <th>store_visits_daily_average</th>\n",
       "      <th>store_window_flow_daily_average</th>\n",
       "      <th>store_total_visits</th>\n",
       "      <th>store_total_window_flow</th>\n",
       "      <th>days_with_traffic_data</th>\n",
       "    </tr>\n",
       "  </thead>\n",
       "  <tbody>\n",
       "    <tr>\n",
       "      <th>0</th>\n",
       "      <td>6191</td>\n",
       "      <td>25</td>\n",
       "      <td>9802.91</td>\n",
       "      <td>946624.91</td>\n",
       "      <td>371.83</td>\n",
       "      <td>35906.46</td>\n",
       "      <td>107832</td>\n",
       "      <td>10412874</td>\n",
       "      <td>290</td>\n",
       "    </tr>\n",
       "    <tr>\n",
       "      <th>1</th>\n",
       "      <td>6199</td>\n",
       "      <td>25</td>\n",
       "      <td>9392.77</td>\n",
       "      <td>981521.23</td>\n",
       "      <td>333.62</td>\n",
       "      <td>34862.78</td>\n",
       "      <td>122106</td>\n",
       "      <td>12759776</td>\n",
       "      <td>366</td>\n",
       "    </tr>\n",
       "    <tr>\n",
       "      <th>2</th>\n",
       "      <td>6515</td>\n",
       "      <td>26</td>\n",
       "      <td>3916.33</td>\n",
       "      <td>637980.33</td>\n",
       "      <td>192.61</td>\n",
       "      <td>31376.08</td>\n",
       "      <td>11749</td>\n",
       "      <td>1913941</td>\n",
       "      <td>61</td>\n",
       "    </tr>\n",
       "    <tr>\n",
       "      <th>3</th>\n",
       "      <td>5908</td>\n",
       "      <td>23</td>\n",
       "      <td>6812.62</td>\n",
       "      <td>255764.69</td>\n",
       "      <td>241.98</td>\n",
       "      <td>9084.54</td>\n",
       "      <td>88564</td>\n",
       "      <td>3324941</td>\n",
       "      <td>366</td>\n",
       "    </tr>\n",
       "    <tr>\n",
       "      <th>4</th>\n",
       "      <td>5909</td>\n",
       "      <td>23</td>\n",
       "      <td>4949.77</td>\n",
       "      <td>255781.85</td>\n",
       "      <td>175.81</td>\n",
       "      <td>9085.15</td>\n",
       "      <td>64347</td>\n",
       "      <td>3325164</td>\n",
       "      <td>366</td>\n",
       "    </tr>\n",
       "    <tr>\n",
       "      <th>...</th>\n",
       "      <td>...</td>\n",
       "      <td>...</td>\n",
       "      <td>...</td>\n",
       "      <td>...</td>\n",
       "      <td>...</td>\n",
       "      <td>...</td>\n",
       "      <td>...</td>\n",
       "      <td>...</td>\n",
       "      <td>...</td>\n",
       "    </tr>\n",
       "    <tr>\n",
       "      <th>3911</th>\n",
       "      <td>4285</td>\n",
       "      <td>17</td>\n",
       "      <td>652.00</td>\n",
       "      <td>165458.00</td>\n",
       "      <td>93.14</td>\n",
       "      <td>23636.86</td>\n",
       "      <td>652</td>\n",
       "      <td>165458</td>\n",
       "      <td>7</td>\n",
       "    </tr>\n",
       "    <tr>\n",
       "      <th>3912</th>\n",
       "      <td>4616</td>\n",
       "      <td>10</td>\n",
       "      <td>21741.50</td>\n",
       "      <td>564309.00</td>\n",
       "      <td>1358.84</td>\n",
       "      <td>35269.31</td>\n",
       "      <td>43483</td>\n",
       "      <td>1128618</td>\n",
       "      <td>32</td>\n",
       "    </tr>\n",
       "    <tr>\n",
       "      <th>3913</th>\n",
       "      <td>6792</td>\n",
       "      <td>33</td>\n",
       "      <td>980.00</td>\n",
       "      <td>24314.00</td>\n",
       "      <td>163.33</td>\n",
       "      <td>4052.33</td>\n",
       "      <td>980</td>\n",
       "      <td>24314</td>\n",
       "      <td>6</td>\n",
       "    </tr>\n",
       "    <tr>\n",
       "      <th>3918</th>\n",
       "      <td>7167</td>\n",
       "      <td>19</td>\n",
       "      <td>1414.00</td>\n",
       "      <td>74491.00</td>\n",
       "      <td>282.80</td>\n",
       "      <td>14898.20</td>\n",
       "      <td>1414</td>\n",
       "      <td>74491</td>\n",
       "      <td>5</td>\n",
       "    </tr>\n",
       "    <tr>\n",
       "      <th>3919</th>\n",
       "      <td>6006</td>\n",
       "      <td>23</td>\n",
       "      <td>605.00</td>\n",
       "      <td>86126.00</td>\n",
       "      <td>67.22</td>\n",
       "      <td>9569.56</td>\n",
       "      <td>605</td>\n",
       "      <td>86126</td>\n",
       "      <td>9</td>\n",
       "    </tr>\n",
       "  </tbody>\n",
       "</table>\n",
       "<p>3912 rows × 9 columns</p>\n",
       "</div>"
      ],
      "text/plain": [
       "      block_id  external_mall_id  store_visits_monthly_average  \\\n",
       "0         6191                25                       9802.91   \n",
       "1         6199                25                       9392.77   \n",
       "2         6515                26                       3916.33   \n",
       "3         5908                23                       6812.62   \n",
       "4         5909                23                       4949.77   \n",
       "...        ...               ...                           ...   \n",
       "3911      4285                17                        652.00   \n",
       "3912      4616                10                      21741.50   \n",
       "3913      6792                33                        980.00   \n",
       "3918      7167                19                       1414.00   \n",
       "3919      6006                23                        605.00   \n",
       "\n",
       "      store_window_flow_monthly_average  store_visits_daily_average  \\\n",
       "0                             946624.91                      371.83   \n",
       "1                             981521.23                      333.62   \n",
       "2                             637980.33                      192.61   \n",
       "3                             255764.69                      241.98   \n",
       "4                             255781.85                      175.81   \n",
       "...                                 ...                         ...   \n",
       "3911                          165458.00                       93.14   \n",
       "3912                          564309.00                     1358.84   \n",
       "3913                           24314.00                      163.33   \n",
       "3918                           74491.00                      282.80   \n",
       "3919                           86126.00                       67.22   \n",
       "\n",
       "      store_window_flow_daily_average  store_total_visits  \\\n",
       "0                            35906.46              107832   \n",
       "1                            34862.78              122106   \n",
       "2                            31376.08               11749   \n",
       "3                             9084.54               88564   \n",
       "4                             9085.15               64347   \n",
       "...                               ...                 ...   \n",
       "3911                         23636.86                 652   \n",
       "3912                         35269.31               43483   \n",
       "3913                          4052.33                 980   \n",
       "3918                         14898.20                1414   \n",
       "3919                          9569.56                 605   \n",
       "\n",
       "      store_total_window_flow  days_with_traffic_data  \n",
       "0                    10412874                     290  \n",
       "1                    12759776                     366  \n",
       "2                     1913941                      61  \n",
       "3                     3324941                     366  \n",
       "4                     3325164                     366  \n",
       "...                       ...                     ...  \n",
       "3911                   165458                       7  \n",
       "3912                  1128618                      32  \n",
       "3913                    24314                       6  \n",
       "3918                    74491                       5  \n",
       "3919                    86126                       9  \n",
       "\n",
       "[3912 rows x 9 columns]"
      ]
     },
     "execution_count": 5,
     "metadata": {},
     "output_type": "execute_result"
    }
   ],
   "source": [
    "traffic_block_level"
   ]
  },
  {
   "cell_type": "code",
   "execution_count": 6,
   "metadata": {},
   "outputs": [
    {
     "data": {
      "text/html": [
       "<div>\n",
       "<style scoped>\n",
       "    .dataframe tbody tr th:only-of-type {\n",
       "        vertical-align: middle;\n",
       "    }\n",
       "\n",
       "    .dataframe tbody tr th {\n",
       "        vertical-align: top;\n",
       "    }\n",
       "\n",
       "    .dataframe thead th {\n",
       "        text-align: right;\n",
       "    }\n",
       "</style>\n",
       "<table border=\"1\" class=\"dataframe\">\n",
       "  <thead>\n",
       "    <tr style=\"text-align: right;\">\n",
       "      <th></th>\n",
       "      <th>block_id</th>\n",
       "      <th>external_mall_id</th>\n",
       "    </tr>\n",
       "    <tr>\n",
       "      <th>store_id</th>\n",
       "      <th></th>\n",
       "      <th></th>\n",
       "    </tr>\n",
       "  </thead>\n",
       "  <tbody>\n",
       "    <tr>\n",
       "      <th>1845</th>\n",
       "      <td>7413</td>\n",
       "      <td>30</td>\n",
       "    </tr>\n",
       "    <tr>\n",
       "      <th>1271</th>\n",
       "      <td>4680</td>\n",
       "      <td>10</td>\n",
       "    </tr>\n",
       "    <tr>\n",
       "      <th>1451</th>\n",
       "      <td>4605</td>\n",
       "      <td>10</td>\n",
       "    </tr>\n",
       "    <tr>\n",
       "      <th>12114</th>\n",
       "      <td>11596</td>\n",
       "      <td>32</td>\n",
       "    </tr>\n",
       "    <tr>\n",
       "      <th>1886</th>\n",
       "      <td>7444</td>\n",
       "      <td>30</td>\n",
       "    </tr>\n",
       "    <tr>\n",
       "      <th>...</th>\n",
       "      <td>...</td>\n",
       "      <td>...</td>\n",
       "    </tr>\n",
       "    <tr>\n",
       "      <th>5191</th>\n",
       "      <td>1819</td>\n",
       "      <td>16</td>\n",
       "    </tr>\n",
       "    <tr>\n",
       "      <th>4773</th>\n",
       "      <td>5031</td>\n",
       "      <td>14</td>\n",
       "    </tr>\n",
       "    <tr>\n",
       "      <th>5888</th>\n",
       "      <td>25</td>\n",
       "      <td>7</td>\n",
       "    </tr>\n",
       "    <tr>\n",
       "      <th>5652</th>\n",
       "      <td>4316</td>\n",
       "      <td>17</td>\n",
       "    </tr>\n",
       "    <tr>\n",
       "      <th>4452</th>\n",
       "      <td>6671</td>\n",
       "      <td>22</td>\n",
       "    </tr>\n",
       "  </tbody>\n",
       "</table>\n",
       "<p>4027 rows × 2 columns</p>\n",
       "</div>"
      ],
      "text/plain": [
       "          block_id  external_mall_id\n",
       "store_id                            \n",
       "1845          7413                30\n",
       "1271          4680                10\n",
       "1451          4605                10\n",
       "12114        11596                32\n",
       "1886          7444                30\n",
       "...            ...               ...\n",
       "5191          1819                16\n",
       "4773          5031                14\n",
       "5888            25                 7\n",
       "5652          4316                17\n",
       "4452          6671                22\n",
       "\n",
       "[4027 rows x 2 columns]"
      ]
     },
     "execution_count": 6,
     "metadata": {},
     "output_type": "execute_result"
    }
   ],
   "source": [
    "store_to_external_mall"
   ]
  },
  {
   "cell_type": "code",
   "execution_count": 7,
   "metadata": {},
   "outputs": [
    {
     "data": {
      "text/html": [
       "<div>\n",
       "<style scoped>\n",
       "    .dataframe tbody tr th:only-of-type {\n",
       "        vertical-align: middle;\n",
       "    }\n",
       "\n",
       "    .dataframe tbody tr th {\n",
       "        vertical-align: top;\n",
       "    }\n",
       "\n",
       "    .dataframe thead th {\n",
       "        text-align: right;\n",
       "    }\n",
       "</style>\n",
       "<table border=\"1\" class=\"dataframe\">\n",
       "  <thead>\n",
       "    <tr style=\"text-align: right;\">\n",
       "      <th></th>\n",
       "      <th>store_id</th>\n",
       "      <th>mall_id</th>\n",
       "      <th>store_year_opened</th>\n",
       "      <th>store_year_closed</th>\n",
       "      <th>store_branch_level_1</th>\n",
       "      <th>store_branch_level_2</th>\n",
       "      <th>store_branch_level_3</th>\n",
       "      <th>store_sales_r12m</th>\n",
       "      <th>store_rent_r12m</th>\n",
       "      <th>store_area</th>\n",
       "      <th>mall_name</th>\n",
       "      <th>mall_country</th>\n",
       "      <th>total_mall_area</th>\n",
       "      <th>is_third_party</th>\n",
       "    </tr>\n",
       "  </thead>\n",
       "  <tbody>\n",
       "    <tr>\n",
       "      <th>0</th>\n",
       "      <td>0</td>\n",
       "      <td>0</td>\n",
       "      <td>01/01/1999</td>\n",
       "      <td>31/08/2023</td>\n",
       "      <td>Culture &amp; Media &amp; Technology</td>\n",
       "      <td>Mobile Phones &amp; Communication</td>\n",
       "      <td>Mobile Phones &amp; Communication &amp; Internet</td>\n",
       "      <td>8058961.0</td>\n",
       "      <td>52824.0</td>\n",
       "      <td>0.00</td>\n",
       "      <td>Westfield Donau Zentrum</td>\n",
       "      <td>Austria</td>\n",
       "      <td>108440.8</td>\n",
       "      <td>0</td>\n",
       "    </tr>\n",
       "    <tr>\n",
       "      <th>1</th>\n",
       "      <td>1</td>\n",
       "      <td>0</td>\n",
       "      <td>28/10/2010</td>\n",
       "      <td>NaN</td>\n",
       "      <td>Services</td>\n",
       "      <td>Clothing-related services</td>\n",
       "      <td>Clothes repairs</td>\n",
       "      <td>291179.0</td>\n",
       "      <td>NaN</td>\n",
       "      <td>89.00</td>\n",
       "      <td>Westfield Donau Zentrum</td>\n",
       "      <td>Austria</td>\n",
       "      <td>108440.8</td>\n",
       "      <td>0</td>\n",
       "    </tr>\n",
       "    <tr>\n",
       "      <th>2</th>\n",
       "      <td>2</td>\n",
       "      <td>0</td>\n",
       "      <td>28/10/2010</td>\n",
       "      <td>NaN</td>\n",
       "      <td>Culture &amp; Media &amp; Technology</td>\n",
       "      <td>Electronics and household appliances</td>\n",
       "      <td>Monobrand electronics</td>\n",
       "      <td>NaN</td>\n",
       "      <td>184498.0</td>\n",
       "      <td>115.00</td>\n",
       "      <td>Westfield Donau Zentrum</td>\n",
       "      <td>Austria</td>\n",
       "      <td>108440.8</td>\n",
       "      <td>0</td>\n",
       "    </tr>\n",
       "    <tr>\n",
       "      <th>3</th>\n",
       "      <td>3</td>\n",
       "      <td>0</td>\n",
       "      <td>28/10/2010</td>\n",
       "      <td>NaN</td>\n",
       "      <td>Bags &amp; Footwear &amp; Accessories</td>\n",
       "      <td>Accessories</td>\n",
       "      <td>Mixed: small accessories, bags and fancy jewel...</td>\n",
       "      <td>NaN</td>\n",
       "      <td>396868.0</td>\n",
       "      <td>81.00</td>\n",
       "      <td>Westfield Donau Zentrum</td>\n",
       "      <td>Austria</td>\n",
       "      <td>108440.8</td>\n",
       "      <td>0</td>\n",
       "    </tr>\n",
       "    <tr>\n",
       "      <th>4</th>\n",
       "      <td>4</td>\n",
       "      <td>0</td>\n",
       "      <td>28/10/2010</td>\n",
       "      <td>NaN</td>\n",
       "      <td>Services</td>\n",
       "      <td>Photo services</td>\n",
       "      <td>Photo Development</td>\n",
       "      <td>5536831.0</td>\n",
       "      <td>501842.0</td>\n",
       "      <td>59.00</td>\n",
       "      <td>Westfield Donau Zentrum</td>\n",
       "      <td>Austria</td>\n",
       "      <td>108440.8</td>\n",
       "      <td>0</td>\n",
       "    </tr>\n",
       "    <tr>\n",
       "      <th>...</th>\n",
       "      <td>...</td>\n",
       "      <td>...</td>\n",
       "      <td>...</td>\n",
       "      <td>...</td>\n",
       "      <td>...</td>\n",
       "      <td>...</td>\n",
       "      <td>...</td>\n",
       "      <td>...</td>\n",
       "      <td>...</td>\n",
       "      <td>...</td>\n",
       "      <td>...</td>\n",
       "      <td>...</td>\n",
       "      <td>...</td>\n",
       "      <td>...</td>\n",
       "    </tr>\n",
       "    <tr>\n",
       "      <th>15546</th>\n",
       "      <td>15546</td>\n",
       "      <td>85</td>\n",
       "      <td>15/09/2023</td>\n",
       "      <td>NaN</td>\n",
       "      <td>Food &amp; Beverage Services</td>\n",
       "      <td>Bars, Coffee and Tea breaks</td>\n",
       "      <td>Seated Cafes &amp; Kiosks</td>\n",
       "      <td>141430.0</td>\n",
       "      <td>92820.0</td>\n",
       "      <td>181.63</td>\n",
       "      <td>Westfield World Trade Center</td>\n",
       "      <td>USA</td>\n",
       "      <td>20188.2</td>\n",
       "      <td>0</td>\n",
       "    </tr>\n",
       "    <tr>\n",
       "      <th>15547</th>\n",
       "      <td>15547</td>\n",
       "      <td>85</td>\n",
       "      <td>12/05/2024</td>\n",
       "      <td>NaN</td>\n",
       "      <td>Food &amp; Beverage Services</td>\n",
       "      <td>Sweet moments</td>\n",
       "      <td>Icecreams &amp; Frozen yogurts</td>\n",
       "      <td>292239.0</td>\n",
       "      <td>1077736.0</td>\n",
       "      <td>30.94</td>\n",
       "      <td>Westfield World Trade Center</td>\n",
       "      <td>USA</td>\n",
       "      <td>20188.2</td>\n",
       "      <td>0</td>\n",
       "    </tr>\n",
       "    <tr>\n",
       "      <th>15548</th>\n",
       "      <td>15548</td>\n",
       "      <td>85</td>\n",
       "      <td>03/06/2024</td>\n",
       "      <td>NaN</td>\n",
       "      <td>Health &amp; Beauty</td>\n",
       "      <td>Perfumery, beautycare</td>\n",
       "      <td>Monobrand mainstream</td>\n",
       "      <td>NaN</td>\n",
       "      <td>NaN</td>\n",
       "      <td>86.12</td>\n",
       "      <td>Westfield World Trade Center</td>\n",
       "      <td>USA</td>\n",
       "      <td>20188.2</td>\n",
       "      <td>0</td>\n",
       "    </tr>\n",
       "    <tr>\n",
       "      <th>15549</th>\n",
       "      <td>15549</td>\n",
       "      <td>85</td>\n",
       "      <td>01/03/2024</td>\n",
       "      <td>NaN</td>\n",
       "      <td>Health &amp; Beauty</td>\n",
       "      <td>Perfumery, beautycare</td>\n",
       "      <td>Multibrand mainstream</td>\n",
       "      <td>13334056.0</td>\n",
       "      <td>203089.0</td>\n",
       "      <td>39.58</td>\n",
       "      <td>Westfield World Trade Center</td>\n",
       "      <td>USA</td>\n",
       "      <td>20188.2</td>\n",
       "      <td>0</td>\n",
       "    </tr>\n",
       "    <tr>\n",
       "      <th>15550</th>\n",
       "      <td>15550</td>\n",
       "      <td>85</td>\n",
       "      <td>30/08/2024</td>\n",
       "      <td>NaN</td>\n",
       "      <td>Food &amp; Beverage Services</td>\n",
       "      <td>Gourmet Food Products</td>\n",
       "      <td>Chocolate</td>\n",
       "      <td>169937264.0</td>\n",
       "      <td>75676.0</td>\n",
       "      <td>76.18</td>\n",
       "      <td>Westfield World Trade Center</td>\n",
       "      <td>USA</td>\n",
       "      <td>20188.2</td>\n",
       "      <td>0</td>\n",
       "    </tr>\n",
       "  </tbody>\n",
       "</table>\n",
       "<p>15551 rows × 14 columns</p>\n",
       "</div>"
      ],
      "text/plain": [
       "       store_id  mall_id store_year_opened store_year_closed  \\\n",
       "0             0        0        01/01/1999        31/08/2023   \n",
       "1             1        0        28/10/2010               NaN   \n",
       "2             2        0        28/10/2010               NaN   \n",
       "3             3        0        28/10/2010               NaN   \n",
       "4             4        0        28/10/2010               NaN   \n",
       "...         ...      ...               ...               ...   \n",
       "15546     15546       85        15/09/2023               NaN   \n",
       "15547     15547       85        12/05/2024               NaN   \n",
       "15548     15548       85        03/06/2024               NaN   \n",
       "15549     15549       85        01/03/2024               NaN   \n",
       "15550     15550       85        30/08/2024               NaN   \n",
       "\n",
       "                store_branch_level_1                  store_branch_level_2  \\\n",
       "0       Culture & Media & Technology         Mobile Phones & Communication   \n",
       "1                           Services             Clothing-related services   \n",
       "2       Culture & Media & Technology  Electronics and household appliances   \n",
       "3      Bags & Footwear & Accessories                           Accessories   \n",
       "4                           Services                        Photo services   \n",
       "...                              ...                                   ...   \n",
       "15546       Food & Beverage Services           Bars, Coffee and Tea breaks   \n",
       "15547       Food & Beverage Services                         Sweet moments   \n",
       "15548                Health & Beauty                 Perfumery, beautycare   \n",
       "15549                Health & Beauty                 Perfumery, beautycare   \n",
       "15550       Food & Beverage Services                 Gourmet Food Products   \n",
       "\n",
       "                                    store_branch_level_3  store_sales_r12m  \\\n",
       "0               Mobile Phones & Communication & Internet         8058961.0   \n",
       "1                                        Clothes repairs          291179.0   \n",
       "2                                  Monobrand electronics               NaN   \n",
       "3      Mixed: small accessories, bags and fancy jewel...               NaN   \n",
       "4                                      Photo Development         5536831.0   \n",
       "...                                                  ...               ...   \n",
       "15546                              Seated Cafes & Kiosks          141430.0   \n",
       "15547                         Icecreams & Frozen yogurts          292239.0   \n",
       "15548                               Monobrand mainstream               NaN   \n",
       "15549                              Multibrand mainstream        13334056.0   \n",
       "15550                                          Chocolate       169937264.0   \n",
       "\n",
       "       store_rent_r12m  store_area                     mall_name mall_country  \\\n",
       "0              52824.0        0.00       Westfield Donau Zentrum      Austria   \n",
       "1                  NaN       89.00       Westfield Donau Zentrum      Austria   \n",
       "2             184498.0      115.00       Westfield Donau Zentrum      Austria   \n",
       "3             396868.0       81.00       Westfield Donau Zentrum      Austria   \n",
       "4             501842.0       59.00       Westfield Donau Zentrum      Austria   \n",
       "...                ...         ...                           ...          ...   \n",
       "15546          92820.0      181.63  Westfield World Trade Center          USA   \n",
       "15547        1077736.0       30.94  Westfield World Trade Center          USA   \n",
       "15548              NaN       86.12  Westfield World Trade Center          USA   \n",
       "15549         203089.0       39.58  Westfield World Trade Center          USA   \n",
       "15550          75676.0       76.18  Westfield World Trade Center          USA   \n",
       "\n",
       "       total_mall_area  is_third_party  \n",
       "0             108440.8               0  \n",
       "1             108440.8               0  \n",
       "2             108440.8               0  \n",
       "3             108440.8               0  \n",
       "4             108440.8               0  \n",
       "...                ...             ...  \n",
       "15546          20188.2               0  \n",
       "15547          20188.2               0  \n",
       "15548          20188.2               0  \n",
       "15549          20188.2               0  \n",
       "15550          20188.2               0  \n",
       "\n",
       "[15551 rows x 14 columns]"
      ]
     },
     "execution_count": 7,
     "metadata": {},
     "output_type": "execute_result"
    }
   ],
   "source": [
    "store"
   ]
  },
  {
   "cell_type": "markdown",
   "metadata": {},
   "source": [
    "## Retail mix metrics : diversity index and its correlation to sales/m2 at mall level"
   ]
  },
  {
   "cell_type": "code",
   "execution_count": 2,
   "metadata": {},
   "outputs": [
    {
     "name": "stdout",
     "output_type": "stream",
     "text": [
      "    mall_id  entropy_store_branch_level_1  entropy_store_branch_level_2  \\\n",
      "0         0                      3.129206                      4.775092   \n",
      "1         1                      3.242199                      4.761455   \n",
      "2         2                      3.303719                      4.696964   \n",
      "3         3                      3.156496                      4.580698   \n",
      "4         4                      3.144773                      4.644850   \n",
      "..      ...                           ...                           ...   \n",
      "80       81                      3.128353                      4.582917   \n",
      "81       82                      3.145251                      4.604440   \n",
      "82       83                      3.205821                      4.411648   \n",
      "83       84                      0.991760                      2.339354   \n",
      "84       85                      2.921088                      4.144313   \n",
      "\n",
      "    entropy_store_branch_level_3  \n",
      "0                       5.797663  \n",
      "1                       5.841097  \n",
      "2                       5.422103  \n",
      "3                       5.267133  \n",
      "4                       5.487750  \n",
      "..                           ...  \n",
      "80                      5.343669  \n",
      "81                      5.415260  \n",
      "82                      5.373429  \n",
      "83                      3.321928  \n",
      "84                      5.034514  \n",
      "\n",
      "[85 rows x 4 columns]\n"
     ]
    }
   ],
   "source": [
    "#Diversity index : based on Shannon Entropy\n",
    "import pandas as pd\n",
    "import numpy as np\n",
    "\n",
    "# Define a function to calculate Shannon entropy\n",
    "def calculate_entropy(proportions):\n",
    "    return -np.sum(proportions * np.log2(proportions))\n",
    "\n",
    "# Initialize an empty dictionary to store results\n",
    "entropy_results = {}\n",
    "\n",
    "# List of branch levels to compute entropy for\n",
    "branch_levels = [\"store_branch_level_1\", \"store_branch_level_2\", \"store_branch_level_3\"]\n",
    "\n",
    "# Loop over each branch level and calculate entropy by mall\n",
    "for branch_level in branch_levels:\n",
    "    # Group by mall_id and branch level, then count occurrences\n",
    "    counts = store.groupby([\"mall_id\", branch_level]).size().reset_index(name=\"count\")\n",
    "    \n",
    "    # Calculate proportions within each mall\n",
    "    counts[\"proportion\"] = counts.groupby(\"mall_id\")[\"count\"].transform(lambda x: x / x.sum())\n",
    "    \n",
    "    # Calculate entropy for each mall\n",
    "    entropy_by_mall = counts.groupby(\"mall_id\")[\"proportion\"].apply(calculate_entropy).reset_index()\n",
    "    entropy_by_mall.columns = [\"mall_id\", f\"entropy_{branch_level}\"]\n",
    "    \n",
    "    # Store results in the dictionary\n",
    "    entropy_results[branch_level] = entropy_by_mall\n",
    "\n",
    "# Combine entropy results into a single DataFrame\n",
    "entropy_df = entropy_results[\"store_branch_level_1\"]\n",
    "for branch_level in branch_levels[1:]:\n",
    "    entropy_df = entropy_df.merge(entropy_results[branch_level], on=\"mall_id\", how=\"left\")\n",
    "\n",
    "# Display the resulting DataFrame\n",
    "print(entropy_df)\n"
   ]
  },
  {
   "cell_type": "code",
   "execution_count": 3,
   "metadata": {},
   "outputs": [],
   "source": [
    "sales_by_mall = store.groupby(\"mall_id\")[\"store_sales_r12m\"].sum().reset_index()\n",
    "merge = pd.merge(sales_by_mall, mall.reset_index(), on=\"mall_id\", how=\"left\", left_index=False, right_index=False)\n",
    "merge[\"mall_sales_per_m2\"]=merge[\"store_sales_r12m\"]/merge[\"total_mall_area\"]\n",
    "entropy = pd.merge(entropy_df, merge[[\"mall_id\", \"mall_sales_per_m2\"]], on=\"mall_id\", how=\"left\")"
   ]
  },
  {
   "cell_type": "code",
   "execution_count": 4,
   "metadata": {},
   "outputs": [
    {
     "name": "stdout",
     "output_type": "stream",
     "text": [
      "Correlation between entropy_store_branch_level_1 and mall_sales_per_m2: -0.36762516382229266\n"
     ]
    }
   ],
   "source": [
    "# Calculate the correlation between 'entropy_store_branch_level_1' and 'mall_sales_per_m2'\n",
    "correlation = entropy['entropy_store_branch_level_1'].corr(entropy['mall_sales_per_m2'])\n",
    "\n",
    "# Display the result\n",
    "print(f\"Correlation between entropy_store_branch_level_1 and mall_sales_per_m2: {correlation}\")\n"
   ]
  },
  {
   "cell_type": "markdown",
   "metadata": {},
   "source": [
    "Maybe a confounding factor is the total mall area. We split mall area in 3 categories and compute correlation again for each category"
   ]
  },
  {
   "cell_type": "code",
   "execution_count": 5,
   "metadata": {},
   "outputs": [
    {
     "name": "stdout",
     "output_type": "stream",
     "text": [
      "mall_area_category\n",
      "small    -0.516921\n",
      "medium    0.109183\n",
      "large     0.319731\n",
      "dtype: float64\n"
     ]
    }
   ],
   "source": [
    "# Step 1: Categorize total mall area into 'small', 'medium', and 'large'\n",
    "bins = [0, merge['total_mall_area'].quantile(0.33), merge['total_mall_area'].quantile(0.66), merge['total_mall_area'].max()]\n",
    "labels = ['small', 'medium', 'large']\n",
    "\n",
    "merge['mall_area_category'] = pd.cut(merge['total_mall_area'], bins=bins, labels=labels, include_lowest=True)\n",
    "\n",
    "# Step 2: Merge entropy_df and compute correlation by category\n",
    "entropy = pd.merge(entropy_df, merge[[\"mall_id\", \"mall_sales_per_m2\", \"mall_area_category\"]], on=\"mall_id\", how=\"left\")\n",
    "\n",
    "# Step 3: Compute the correlation for each category\n",
    "correlations_by_category = entropy.groupby('mall_area_category').apply(\n",
    "    lambda x: x['entropy_store_branch_level_1'].corr(x['mall_sales_per_m2'])\n",
    ")\n",
    "\n",
    "print(correlations_by_category)\n"
   ]
  },
  {
   "cell_type": "code",
   "execution_count": 6,
   "metadata": {},
   "outputs": [
    {
     "data": {
      "application/vnd.plotly.v1+json": {
       "config": {
        "plotlyServerURL": "https://plot.ly"
       },
       "data": [
        {
         "alignmentgroup": "True",
         "hovertemplate": "Mall Area Category=%{x}<br>Correlation=%{text}<extra></extra>",
         "legendgroup": "",
         "marker": {
          "color": "#636efa",
          "pattern": {
           "shape": ""
          }
         },
         "name": "",
         "offsetgroup": "",
         "orientation": "v",
         "showlegend": false,
         "text": [
          -0.5169213010728979,
          0.10918349326486385,
          0.3197308201038497
         ],
         "textposition": "auto",
         "type": "bar",
         "x": [
          "small",
          "medium",
          "large"
         ],
         "xaxis": "x",
         "y": [
          -0.5169213010728979,
          0.10918349326486385,
          0.3197308201038497
         ],
         "yaxis": "y"
        }
       ],
       "layout": {
        "barmode": "relative",
        "legend": {
         "tracegroupgap": 0
        },
        "template": {
         "data": {
          "bar": [
           {
            "error_x": {
             "color": "#2a3f5f"
            },
            "error_y": {
             "color": "#2a3f5f"
            },
            "marker": {
             "line": {
              "color": "white",
              "width": 0.5
             },
             "pattern": {
              "fillmode": "overlay",
              "size": 10,
              "solidity": 0.2
             }
            },
            "type": "bar"
           }
          ],
          "barpolar": [
           {
            "marker": {
             "line": {
              "color": "white",
              "width": 0.5
             },
             "pattern": {
              "fillmode": "overlay",
              "size": 10,
              "solidity": 0.2
             }
            },
            "type": "barpolar"
           }
          ],
          "carpet": [
           {
            "aaxis": {
             "endlinecolor": "#2a3f5f",
             "gridcolor": "#C8D4E3",
             "linecolor": "#C8D4E3",
             "minorgridcolor": "#C8D4E3",
             "startlinecolor": "#2a3f5f"
            },
            "baxis": {
             "endlinecolor": "#2a3f5f",
             "gridcolor": "#C8D4E3",
             "linecolor": "#C8D4E3",
             "minorgridcolor": "#C8D4E3",
             "startlinecolor": "#2a3f5f"
            },
            "type": "carpet"
           }
          ],
          "choropleth": [
           {
            "colorbar": {
             "outlinewidth": 0,
             "ticks": ""
            },
            "type": "choropleth"
           }
          ],
          "contour": [
           {
            "colorbar": {
             "outlinewidth": 0,
             "ticks": ""
            },
            "colorscale": [
             [
              0,
              "#0d0887"
             ],
             [
              0.1111111111111111,
              "#46039f"
             ],
             [
              0.2222222222222222,
              "#7201a8"
             ],
             [
              0.3333333333333333,
              "#9c179e"
             ],
             [
              0.4444444444444444,
              "#bd3786"
             ],
             [
              0.5555555555555556,
              "#d8576b"
             ],
             [
              0.6666666666666666,
              "#ed7953"
             ],
             [
              0.7777777777777778,
              "#fb9f3a"
             ],
             [
              0.8888888888888888,
              "#fdca26"
             ],
             [
              1,
              "#f0f921"
             ]
            ],
            "type": "contour"
           }
          ],
          "contourcarpet": [
           {
            "colorbar": {
             "outlinewidth": 0,
             "ticks": ""
            },
            "type": "contourcarpet"
           }
          ],
          "heatmap": [
           {
            "colorbar": {
             "outlinewidth": 0,
             "ticks": ""
            },
            "colorscale": [
             [
              0,
              "#0d0887"
             ],
             [
              0.1111111111111111,
              "#46039f"
             ],
             [
              0.2222222222222222,
              "#7201a8"
             ],
             [
              0.3333333333333333,
              "#9c179e"
             ],
             [
              0.4444444444444444,
              "#bd3786"
             ],
             [
              0.5555555555555556,
              "#d8576b"
             ],
             [
              0.6666666666666666,
              "#ed7953"
             ],
             [
              0.7777777777777778,
              "#fb9f3a"
             ],
             [
              0.8888888888888888,
              "#fdca26"
             ],
             [
              1,
              "#f0f921"
             ]
            ],
            "type": "heatmap"
           }
          ],
          "heatmapgl": [
           {
            "colorbar": {
             "outlinewidth": 0,
             "ticks": ""
            },
            "colorscale": [
             [
              0,
              "#0d0887"
             ],
             [
              0.1111111111111111,
              "#46039f"
             ],
             [
              0.2222222222222222,
              "#7201a8"
             ],
             [
              0.3333333333333333,
              "#9c179e"
             ],
             [
              0.4444444444444444,
              "#bd3786"
             ],
             [
              0.5555555555555556,
              "#d8576b"
             ],
             [
              0.6666666666666666,
              "#ed7953"
             ],
             [
              0.7777777777777778,
              "#fb9f3a"
             ],
             [
              0.8888888888888888,
              "#fdca26"
             ],
             [
              1,
              "#f0f921"
             ]
            ],
            "type": "heatmapgl"
           }
          ],
          "histogram": [
           {
            "marker": {
             "pattern": {
              "fillmode": "overlay",
              "size": 10,
              "solidity": 0.2
             }
            },
            "type": "histogram"
           }
          ],
          "histogram2d": [
           {
            "colorbar": {
             "outlinewidth": 0,
             "ticks": ""
            },
            "colorscale": [
             [
              0,
              "#0d0887"
             ],
             [
              0.1111111111111111,
              "#46039f"
             ],
             [
              0.2222222222222222,
              "#7201a8"
             ],
             [
              0.3333333333333333,
              "#9c179e"
             ],
             [
              0.4444444444444444,
              "#bd3786"
             ],
             [
              0.5555555555555556,
              "#d8576b"
             ],
             [
              0.6666666666666666,
              "#ed7953"
             ],
             [
              0.7777777777777778,
              "#fb9f3a"
             ],
             [
              0.8888888888888888,
              "#fdca26"
             ],
             [
              1,
              "#f0f921"
             ]
            ],
            "type": "histogram2d"
           }
          ],
          "histogram2dcontour": [
           {
            "colorbar": {
             "outlinewidth": 0,
             "ticks": ""
            },
            "colorscale": [
             [
              0,
              "#0d0887"
             ],
             [
              0.1111111111111111,
              "#46039f"
             ],
             [
              0.2222222222222222,
              "#7201a8"
             ],
             [
              0.3333333333333333,
              "#9c179e"
             ],
             [
              0.4444444444444444,
              "#bd3786"
             ],
             [
              0.5555555555555556,
              "#d8576b"
             ],
             [
              0.6666666666666666,
              "#ed7953"
             ],
             [
              0.7777777777777778,
              "#fb9f3a"
             ],
             [
              0.8888888888888888,
              "#fdca26"
             ],
             [
              1,
              "#f0f921"
             ]
            ],
            "type": "histogram2dcontour"
           }
          ],
          "mesh3d": [
           {
            "colorbar": {
             "outlinewidth": 0,
             "ticks": ""
            },
            "type": "mesh3d"
           }
          ],
          "parcoords": [
           {
            "line": {
             "colorbar": {
              "outlinewidth": 0,
              "ticks": ""
             }
            },
            "type": "parcoords"
           }
          ],
          "pie": [
           {
            "automargin": true,
            "type": "pie"
           }
          ],
          "scatter": [
           {
            "fillpattern": {
             "fillmode": "overlay",
             "size": 10,
             "solidity": 0.2
            },
            "type": "scatter"
           }
          ],
          "scatter3d": [
           {
            "line": {
             "colorbar": {
              "outlinewidth": 0,
              "ticks": ""
             }
            },
            "marker": {
             "colorbar": {
              "outlinewidth": 0,
              "ticks": ""
             }
            },
            "type": "scatter3d"
           }
          ],
          "scattercarpet": [
           {
            "marker": {
             "colorbar": {
              "outlinewidth": 0,
              "ticks": ""
             }
            },
            "type": "scattercarpet"
           }
          ],
          "scattergeo": [
           {
            "marker": {
             "colorbar": {
              "outlinewidth": 0,
              "ticks": ""
             }
            },
            "type": "scattergeo"
           }
          ],
          "scattergl": [
           {
            "marker": {
             "colorbar": {
              "outlinewidth": 0,
              "ticks": ""
             }
            },
            "type": "scattergl"
           }
          ],
          "scattermapbox": [
           {
            "marker": {
             "colorbar": {
              "outlinewidth": 0,
              "ticks": ""
             }
            },
            "type": "scattermapbox"
           }
          ],
          "scatterpolar": [
           {
            "marker": {
             "colorbar": {
              "outlinewidth": 0,
              "ticks": ""
             }
            },
            "type": "scatterpolar"
           }
          ],
          "scatterpolargl": [
           {
            "marker": {
             "colorbar": {
              "outlinewidth": 0,
              "ticks": ""
             }
            },
            "type": "scatterpolargl"
           }
          ],
          "scatterternary": [
           {
            "marker": {
             "colorbar": {
              "outlinewidth": 0,
              "ticks": ""
             }
            },
            "type": "scatterternary"
           }
          ],
          "surface": [
           {
            "colorbar": {
             "outlinewidth": 0,
             "ticks": ""
            },
            "colorscale": [
             [
              0,
              "#0d0887"
             ],
             [
              0.1111111111111111,
              "#46039f"
             ],
             [
              0.2222222222222222,
              "#7201a8"
             ],
             [
              0.3333333333333333,
              "#9c179e"
             ],
             [
              0.4444444444444444,
              "#bd3786"
             ],
             [
              0.5555555555555556,
              "#d8576b"
             ],
             [
              0.6666666666666666,
              "#ed7953"
             ],
             [
              0.7777777777777778,
              "#fb9f3a"
             ],
             [
              0.8888888888888888,
              "#fdca26"
             ],
             [
              1,
              "#f0f921"
             ]
            ],
            "type": "surface"
           }
          ],
          "table": [
           {
            "cells": {
             "fill": {
              "color": "#EBF0F8"
             },
             "line": {
              "color": "white"
             }
            },
            "header": {
             "fill": {
              "color": "#C8D4E3"
             },
             "line": {
              "color": "white"
             }
            },
            "type": "table"
           }
          ]
         },
         "layout": {
          "annotationdefaults": {
           "arrowcolor": "#2a3f5f",
           "arrowhead": 0,
           "arrowwidth": 1
          },
          "autotypenumbers": "strict",
          "coloraxis": {
           "colorbar": {
            "outlinewidth": 0,
            "ticks": ""
           }
          },
          "colorscale": {
           "diverging": [
            [
             0,
             "#8e0152"
            ],
            [
             0.1,
             "#c51b7d"
            ],
            [
             0.2,
             "#de77ae"
            ],
            [
             0.3,
             "#f1b6da"
            ],
            [
             0.4,
             "#fde0ef"
            ],
            [
             0.5,
             "#f7f7f7"
            ],
            [
             0.6,
             "#e6f5d0"
            ],
            [
             0.7,
             "#b8e186"
            ],
            [
             0.8,
             "#7fbc41"
            ],
            [
             0.9,
             "#4d9221"
            ],
            [
             1,
             "#276419"
            ]
           ],
           "sequential": [
            [
             0,
             "#0d0887"
            ],
            [
             0.1111111111111111,
             "#46039f"
            ],
            [
             0.2222222222222222,
             "#7201a8"
            ],
            [
             0.3333333333333333,
             "#9c179e"
            ],
            [
             0.4444444444444444,
             "#bd3786"
            ],
            [
             0.5555555555555556,
             "#d8576b"
            ],
            [
             0.6666666666666666,
             "#ed7953"
            ],
            [
             0.7777777777777778,
             "#fb9f3a"
            ],
            [
             0.8888888888888888,
             "#fdca26"
            ],
            [
             1,
             "#f0f921"
            ]
           ],
           "sequentialminus": [
            [
             0,
             "#0d0887"
            ],
            [
             0.1111111111111111,
             "#46039f"
            ],
            [
             0.2222222222222222,
             "#7201a8"
            ],
            [
             0.3333333333333333,
             "#9c179e"
            ],
            [
             0.4444444444444444,
             "#bd3786"
            ],
            [
             0.5555555555555556,
             "#d8576b"
            ],
            [
             0.6666666666666666,
             "#ed7953"
            ],
            [
             0.7777777777777778,
             "#fb9f3a"
            ],
            [
             0.8888888888888888,
             "#fdca26"
            ],
            [
             1,
             "#f0f921"
            ]
           ]
          },
          "colorway": [
           "#636efa",
           "#EF553B",
           "#00cc96",
           "#ab63fa",
           "#FFA15A",
           "#19d3f3",
           "#FF6692",
           "#B6E880",
           "#FF97FF",
           "#FECB52"
          ],
          "font": {
           "color": "#2a3f5f"
          },
          "geo": {
           "bgcolor": "white",
           "lakecolor": "white",
           "landcolor": "white",
           "showlakes": true,
           "showland": true,
           "subunitcolor": "#C8D4E3"
          },
          "hoverlabel": {
           "align": "left"
          },
          "hovermode": "closest",
          "mapbox": {
           "style": "light"
          },
          "paper_bgcolor": "white",
          "plot_bgcolor": "white",
          "polar": {
           "angularaxis": {
            "gridcolor": "#EBF0F8",
            "linecolor": "#EBF0F8",
            "ticks": ""
           },
           "bgcolor": "white",
           "radialaxis": {
            "gridcolor": "#EBF0F8",
            "linecolor": "#EBF0F8",
            "ticks": ""
           }
          },
          "scene": {
           "xaxis": {
            "backgroundcolor": "white",
            "gridcolor": "#DFE8F3",
            "gridwidth": 2,
            "linecolor": "#EBF0F8",
            "showbackground": true,
            "ticks": "",
            "zerolinecolor": "#EBF0F8"
           },
           "yaxis": {
            "backgroundcolor": "white",
            "gridcolor": "#DFE8F3",
            "gridwidth": 2,
            "linecolor": "#EBF0F8",
            "showbackground": true,
            "ticks": "",
            "zerolinecolor": "#EBF0F8"
           },
           "zaxis": {
            "backgroundcolor": "white",
            "gridcolor": "#DFE8F3",
            "gridwidth": 2,
            "linecolor": "#EBF0F8",
            "showbackground": true,
            "ticks": "",
            "zerolinecolor": "#EBF0F8"
           }
          },
          "shapedefaults": {
           "line": {
            "color": "#2a3f5f"
           }
          },
          "ternary": {
           "aaxis": {
            "gridcolor": "#DFE8F3",
            "linecolor": "#A2B1C6",
            "ticks": ""
           },
           "baxis": {
            "gridcolor": "#DFE8F3",
            "linecolor": "#A2B1C6",
            "ticks": ""
           },
           "bgcolor": "white",
           "caxis": {
            "gridcolor": "#DFE8F3",
            "linecolor": "#A2B1C6",
            "ticks": ""
           }
          },
          "title": {
           "x": 0.05
          },
          "xaxis": {
           "automargin": true,
           "gridcolor": "#EBF0F8",
           "linecolor": "#EBF0F8",
           "ticks": "",
           "title": {
            "standoff": 15
           },
           "zerolinecolor": "#EBF0F8",
           "zerolinewidth": 2
          },
          "yaxis": {
           "automargin": true,
           "gridcolor": "#EBF0F8",
           "linecolor": "#EBF0F8",
           "ticks": "",
           "title": {
            "standoff": 15
           },
           "zerolinecolor": "#EBF0F8",
           "zerolinewidth": 2
          }
         }
        },
        "title": {
         "text": "Correlation by Mall Area Category"
        },
        "xaxis": {
         "anchor": "y",
         "domain": [
          0,
          1
         ],
         "title": {
          "text": "Mall Area Category"
         }
        },
        "yaxis": {
         "anchor": "x",
         "domain": [
          0,
          1
         ],
         "tickformat": ".2f",
         "title": {
          "text": "Correlation"
         }
        }
       }
      }
     },
     "metadata": {},
     "output_type": "display_data"
    }
   ],
   "source": [
    "import plotly.express as px\n",
    "import pandas as pd\n",
    "\n",
    "# Assuming 'correlations_by_category' is the output of your computation and is a pandas Series\n",
    "# Convert it to a DataFrame for easier plotting\n",
    "correlations_df = correlations_by_category.reset_index()\n",
    "correlations_df.columns = ['mall_area_category', 'correlation']\n",
    "\n",
    "# Create the Plotly bar chart\n",
    "fig = px.bar(\n",
    "    correlations_df,\n",
    "    x='mall_area_category',\n",
    "    y='correlation',\n",
    "    title='Correlation by Mall Area Category',\n",
    "    labels={'mall_area_category': 'Mall Area Category', 'correlation': 'Correlation'},\n",
    "    text='correlation'  # Display correlation values on the bars\n",
    ")\n",
    "\n",
    "# Update layout for better readability\n",
    "fig.update_layout(\n",
    "    xaxis_title='Mall Area Category',\n",
    "    yaxis_title='Correlation',\n",
    "    yaxis=dict(tickformat=\".2f\"),\n",
    "    template='plotly_white'\n",
    ")\n",
    "\n",
    "# Show the plot\n",
    "fig.show()\n"
   ]
  },
  {
   "cell_type": "code",
   "execution_count": 7,
   "metadata": {},
   "outputs": [
    {
     "data": {
      "application/vnd.plotly.v1+json": {
       "config": {
        "plotlyServerURL": "https://plot.ly"
       },
       "data": [
        {
         "hovertemplate": "Mall Area Category=%{x}<br>Correlation=%{y}<extra></extra>",
         "legendgroup": "",
         "line": {
          "color": "#636efa",
          "dash": "solid"
         },
         "marker": {
          "symbol": "circle"
         },
         "mode": "lines+markers",
         "name": "",
         "orientation": "v",
         "showlegend": false,
         "type": "scatter",
         "x": [
          "small",
          "medium",
          "large"
         ],
         "xaxis": "x",
         "y": [
          -0.5169213010728979,
          0.10918349326486385,
          0.3197308201038497
         ],
         "yaxis": "y"
        }
       ],
       "layout": {
        "legend": {
         "tracegroupgap": 0
        },
        "template": {
         "data": {
          "bar": [
           {
            "error_x": {
             "color": "#2a3f5f"
            },
            "error_y": {
             "color": "#2a3f5f"
            },
            "marker": {
             "line": {
              "color": "white",
              "width": 0.5
             },
             "pattern": {
              "fillmode": "overlay",
              "size": 10,
              "solidity": 0.2
             }
            },
            "type": "bar"
           }
          ],
          "barpolar": [
           {
            "marker": {
             "line": {
              "color": "white",
              "width": 0.5
             },
             "pattern": {
              "fillmode": "overlay",
              "size": 10,
              "solidity": 0.2
             }
            },
            "type": "barpolar"
           }
          ],
          "carpet": [
           {
            "aaxis": {
             "endlinecolor": "#2a3f5f",
             "gridcolor": "#C8D4E3",
             "linecolor": "#C8D4E3",
             "minorgridcolor": "#C8D4E3",
             "startlinecolor": "#2a3f5f"
            },
            "baxis": {
             "endlinecolor": "#2a3f5f",
             "gridcolor": "#C8D4E3",
             "linecolor": "#C8D4E3",
             "minorgridcolor": "#C8D4E3",
             "startlinecolor": "#2a3f5f"
            },
            "type": "carpet"
           }
          ],
          "choropleth": [
           {
            "colorbar": {
             "outlinewidth": 0,
             "ticks": ""
            },
            "type": "choropleth"
           }
          ],
          "contour": [
           {
            "colorbar": {
             "outlinewidth": 0,
             "ticks": ""
            },
            "colorscale": [
             [
              0,
              "#0d0887"
             ],
             [
              0.1111111111111111,
              "#46039f"
             ],
             [
              0.2222222222222222,
              "#7201a8"
             ],
             [
              0.3333333333333333,
              "#9c179e"
             ],
             [
              0.4444444444444444,
              "#bd3786"
             ],
             [
              0.5555555555555556,
              "#d8576b"
             ],
             [
              0.6666666666666666,
              "#ed7953"
             ],
             [
              0.7777777777777778,
              "#fb9f3a"
             ],
             [
              0.8888888888888888,
              "#fdca26"
             ],
             [
              1,
              "#f0f921"
             ]
            ],
            "type": "contour"
           }
          ],
          "contourcarpet": [
           {
            "colorbar": {
             "outlinewidth": 0,
             "ticks": ""
            },
            "type": "contourcarpet"
           }
          ],
          "heatmap": [
           {
            "colorbar": {
             "outlinewidth": 0,
             "ticks": ""
            },
            "colorscale": [
             [
              0,
              "#0d0887"
             ],
             [
              0.1111111111111111,
              "#46039f"
             ],
             [
              0.2222222222222222,
              "#7201a8"
             ],
             [
              0.3333333333333333,
              "#9c179e"
             ],
             [
              0.4444444444444444,
              "#bd3786"
             ],
             [
              0.5555555555555556,
              "#d8576b"
             ],
             [
              0.6666666666666666,
              "#ed7953"
             ],
             [
              0.7777777777777778,
              "#fb9f3a"
             ],
             [
              0.8888888888888888,
              "#fdca26"
             ],
             [
              1,
              "#f0f921"
             ]
            ],
            "type": "heatmap"
           }
          ],
          "heatmapgl": [
           {
            "colorbar": {
             "outlinewidth": 0,
             "ticks": ""
            },
            "colorscale": [
             [
              0,
              "#0d0887"
             ],
             [
              0.1111111111111111,
              "#46039f"
             ],
             [
              0.2222222222222222,
              "#7201a8"
             ],
             [
              0.3333333333333333,
              "#9c179e"
             ],
             [
              0.4444444444444444,
              "#bd3786"
             ],
             [
              0.5555555555555556,
              "#d8576b"
             ],
             [
              0.6666666666666666,
              "#ed7953"
             ],
             [
              0.7777777777777778,
              "#fb9f3a"
             ],
             [
              0.8888888888888888,
              "#fdca26"
             ],
             [
              1,
              "#f0f921"
             ]
            ],
            "type": "heatmapgl"
           }
          ],
          "histogram": [
           {
            "marker": {
             "pattern": {
              "fillmode": "overlay",
              "size": 10,
              "solidity": 0.2
             }
            },
            "type": "histogram"
           }
          ],
          "histogram2d": [
           {
            "colorbar": {
             "outlinewidth": 0,
             "ticks": ""
            },
            "colorscale": [
             [
              0,
              "#0d0887"
             ],
             [
              0.1111111111111111,
              "#46039f"
             ],
             [
              0.2222222222222222,
              "#7201a8"
             ],
             [
              0.3333333333333333,
              "#9c179e"
             ],
             [
              0.4444444444444444,
              "#bd3786"
             ],
             [
              0.5555555555555556,
              "#d8576b"
             ],
             [
              0.6666666666666666,
              "#ed7953"
             ],
             [
              0.7777777777777778,
              "#fb9f3a"
             ],
             [
              0.8888888888888888,
              "#fdca26"
             ],
             [
              1,
              "#f0f921"
             ]
            ],
            "type": "histogram2d"
           }
          ],
          "histogram2dcontour": [
           {
            "colorbar": {
             "outlinewidth": 0,
             "ticks": ""
            },
            "colorscale": [
             [
              0,
              "#0d0887"
             ],
             [
              0.1111111111111111,
              "#46039f"
             ],
             [
              0.2222222222222222,
              "#7201a8"
             ],
             [
              0.3333333333333333,
              "#9c179e"
             ],
             [
              0.4444444444444444,
              "#bd3786"
             ],
             [
              0.5555555555555556,
              "#d8576b"
             ],
             [
              0.6666666666666666,
              "#ed7953"
             ],
             [
              0.7777777777777778,
              "#fb9f3a"
             ],
             [
              0.8888888888888888,
              "#fdca26"
             ],
             [
              1,
              "#f0f921"
             ]
            ],
            "type": "histogram2dcontour"
           }
          ],
          "mesh3d": [
           {
            "colorbar": {
             "outlinewidth": 0,
             "ticks": ""
            },
            "type": "mesh3d"
           }
          ],
          "parcoords": [
           {
            "line": {
             "colorbar": {
              "outlinewidth": 0,
              "ticks": ""
             }
            },
            "type": "parcoords"
           }
          ],
          "pie": [
           {
            "automargin": true,
            "type": "pie"
           }
          ],
          "scatter": [
           {
            "fillpattern": {
             "fillmode": "overlay",
             "size": 10,
             "solidity": 0.2
            },
            "type": "scatter"
           }
          ],
          "scatter3d": [
           {
            "line": {
             "colorbar": {
              "outlinewidth": 0,
              "ticks": ""
             }
            },
            "marker": {
             "colorbar": {
              "outlinewidth": 0,
              "ticks": ""
             }
            },
            "type": "scatter3d"
           }
          ],
          "scattercarpet": [
           {
            "marker": {
             "colorbar": {
              "outlinewidth": 0,
              "ticks": ""
             }
            },
            "type": "scattercarpet"
           }
          ],
          "scattergeo": [
           {
            "marker": {
             "colorbar": {
              "outlinewidth": 0,
              "ticks": ""
             }
            },
            "type": "scattergeo"
           }
          ],
          "scattergl": [
           {
            "marker": {
             "colorbar": {
              "outlinewidth": 0,
              "ticks": ""
             }
            },
            "type": "scattergl"
           }
          ],
          "scattermapbox": [
           {
            "marker": {
             "colorbar": {
              "outlinewidth": 0,
              "ticks": ""
             }
            },
            "type": "scattermapbox"
           }
          ],
          "scatterpolar": [
           {
            "marker": {
             "colorbar": {
              "outlinewidth": 0,
              "ticks": ""
             }
            },
            "type": "scatterpolar"
           }
          ],
          "scatterpolargl": [
           {
            "marker": {
             "colorbar": {
              "outlinewidth": 0,
              "ticks": ""
             }
            },
            "type": "scatterpolargl"
           }
          ],
          "scatterternary": [
           {
            "marker": {
             "colorbar": {
              "outlinewidth": 0,
              "ticks": ""
             }
            },
            "type": "scatterternary"
           }
          ],
          "surface": [
           {
            "colorbar": {
             "outlinewidth": 0,
             "ticks": ""
            },
            "colorscale": [
             [
              0,
              "#0d0887"
             ],
             [
              0.1111111111111111,
              "#46039f"
             ],
             [
              0.2222222222222222,
              "#7201a8"
             ],
             [
              0.3333333333333333,
              "#9c179e"
             ],
             [
              0.4444444444444444,
              "#bd3786"
             ],
             [
              0.5555555555555556,
              "#d8576b"
             ],
             [
              0.6666666666666666,
              "#ed7953"
             ],
             [
              0.7777777777777778,
              "#fb9f3a"
             ],
             [
              0.8888888888888888,
              "#fdca26"
             ],
             [
              1,
              "#f0f921"
             ]
            ],
            "type": "surface"
           }
          ],
          "table": [
           {
            "cells": {
             "fill": {
              "color": "#EBF0F8"
             },
             "line": {
              "color": "white"
             }
            },
            "header": {
             "fill": {
              "color": "#C8D4E3"
             },
             "line": {
              "color": "white"
             }
            },
            "type": "table"
           }
          ]
         },
         "layout": {
          "annotationdefaults": {
           "arrowcolor": "#2a3f5f",
           "arrowhead": 0,
           "arrowwidth": 1
          },
          "autotypenumbers": "strict",
          "coloraxis": {
           "colorbar": {
            "outlinewidth": 0,
            "ticks": ""
           }
          },
          "colorscale": {
           "diverging": [
            [
             0,
             "#8e0152"
            ],
            [
             0.1,
             "#c51b7d"
            ],
            [
             0.2,
             "#de77ae"
            ],
            [
             0.3,
             "#f1b6da"
            ],
            [
             0.4,
             "#fde0ef"
            ],
            [
             0.5,
             "#f7f7f7"
            ],
            [
             0.6,
             "#e6f5d0"
            ],
            [
             0.7,
             "#b8e186"
            ],
            [
             0.8,
             "#7fbc41"
            ],
            [
             0.9,
             "#4d9221"
            ],
            [
             1,
             "#276419"
            ]
           ],
           "sequential": [
            [
             0,
             "#0d0887"
            ],
            [
             0.1111111111111111,
             "#46039f"
            ],
            [
             0.2222222222222222,
             "#7201a8"
            ],
            [
             0.3333333333333333,
             "#9c179e"
            ],
            [
             0.4444444444444444,
             "#bd3786"
            ],
            [
             0.5555555555555556,
             "#d8576b"
            ],
            [
             0.6666666666666666,
             "#ed7953"
            ],
            [
             0.7777777777777778,
             "#fb9f3a"
            ],
            [
             0.8888888888888888,
             "#fdca26"
            ],
            [
             1,
             "#f0f921"
            ]
           ],
           "sequentialminus": [
            [
             0,
             "#0d0887"
            ],
            [
             0.1111111111111111,
             "#46039f"
            ],
            [
             0.2222222222222222,
             "#7201a8"
            ],
            [
             0.3333333333333333,
             "#9c179e"
            ],
            [
             0.4444444444444444,
             "#bd3786"
            ],
            [
             0.5555555555555556,
             "#d8576b"
            ],
            [
             0.6666666666666666,
             "#ed7953"
            ],
            [
             0.7777777777777778,
             "#fb9f3a"
            ],
            [
             0.8888888888888888,
             "#fdca26"
            ],
            [
             1,
             "#f0f921"
            ]
           ]
          },
          "colorway": [
           "#636efa",
           "#EF553B",
           "#00cc96",
           "#ab63fa",
           "#FFA15A",
           "#19d3f3",
           "#FF6692",
           "#B6E880",
           "#FF97FF",
           "#FECB52"
          ],
          "font": {
           "color": "#2a3f5f"
          },
          "geo": {
           "bgcolor": "white",
           "lakecolor": "white",
           "landcolor": "white",
           "showlakes": true,
           "showland": true,
           "subunitcolor": "#C8D4E3"
          },
          "hoverlabel": {
           "align": "left"
          },
          "hovermode": "closest",
          "mapbox": {
           "style": "light"
          },
          "paper_bgcolor": "white",
          "plot_bgcolor": "white",
          "polar": {
           "angularaxis": {
            "gridcolor": "#EBF0F8",
            "linecolor": "#EBF0F8",
            "ticks": ""
           },
           "bgcolor": "white",
           "radialaxis": {
            "gridcolor": "#EBF0F8",
            "linecolor": "#EBF0F8",
            "ticks": ""
           }
          },
          "scene": {
           "xaxis": {
            "backgroundcolor": "white",
            "gridcolor": "#DFE8F3",
            "gridwidth": 2,
            "linecolor": "#EBF0F8",
            "showbackground": true,
            "ticks": "",
            "zerolinecolor": "#EBF0F8"
           },
           "yaxis": {
            "backgroundcolor": "white",
            "gridcolor": "#DFE8F3",
            "gridwidth": 2,
            "linecolor": "#EBF0F8",
            "showbackground": true,
            "ticks": "",
            "zerolinecolor": "#EBF0F8"
           },
           "zaxis": {
            "backgroundcolor": "white",
            "gridcolor": "#DFE8F3",
            "gridwidth": 2,
            "linecolor": "#EBF0F8",
            "showbackground": true,
            "ticks": "",
            "zerolinecolor": "#EBF0F8"
           }
          },
          "shapedefaults": {
           "line": {
            "color": "#2a3f5f"
           }
          },
          "ternary": {
           "aaxis": {
            "gridcolor": "#DFE8F3",
            "linecolor": "#A2B1C6",
            "ticks": ""
           },
           "baxis": {
            "gridcolor": "#DFE8F3",
            "linecolor": "#A2B1C6",
            "ticks": ""
           },
           "bgcolor": "white",
           "caxis": {
            "gridcolor": "#DFE8F3",
            "linecolor": "#A2B1C6",
            "ticks": ""
           }
          },
          "title": {
           "x": 0.05
          },
          "xaxis": {
           "automargin": true,
           "gridcolor": "#EBF0F8",
           "linecolor": "#EBF0F8",
           "ticks": "",
           "title": {
            "standoff": 15
           },
           "zerolinecolor": "#EBF0F8",
           "zerolinewidth": 2
          },
          "yaxis": {
           "automargin": true,
           "gridcolor": "#EBF0F8",
           "linecolor": "#EBF0F8",
           "ticks": "",
           "title": {
            "standoff": 15
           },
           "zerolinecolor": "#EBF0F8",
           "zerolinewidth": 2
          }
         }
        },
        "title": {
         "text": "Correlations Between Diversity and Sales/m² and Mall Area Category"
        },
        "xaxis": {
         "anchor": "y",
         "domain": [
          0,
          1
         ],
         "title": {
          "text": "Mall Area Category"
         }
        },
        "yaxis": {
         "anchor": "x",
         "domain": [
          0,
          1
         ],
         "tickformat": ".2f",
         "title": {
          "text": "Correlation"
         }
        }
       }
      }
     },
     "metadata": {},
     "output_type": "display_data"
    }
   ],
   "source": [
    "import plotly.express as px\n",
    "import pandas as pd\n",
    "\n",
    "# Assuming 'correlations_by_category' is the output of your computation and is a pandas Series\n",
    "# Convert it to a DataFrame for easier plotting\n",
    "correlations_df = correlations_by_category.reset_index()\n",
    "correlations_df.columns = ['mall_area_category', 'correlation']\n",
    "\n",
    "# Create the Plotly line chart\n",
    "fig = px.line(\n",
    "    correlations_df,\n",
    "    x='mall_area_category',\n",
    "    y='correlation',\n",
    "    title='Correlations Between Diversity and Sales/m² and Mall Area Category',\n",
    "    labels={'mall_area_category': 'Mall Area Category', 'correlation': 'Correlation'},\n",
    "    markers=True  # Add markers to indicate the points\n",
    ")\n",
    "\n",
    "# Update layout for better readability\n",
    "fig.update_layout(\n",
    "    xaxis_title='Mall Area Category',\n",
    "    yaxis_title='Correlation',\n",
    "    yaxis=dict(tickformat=\".2f\"),\n",
    "    template='plotly_white'\n",
    ")\n",
    "\n",
    "# Show the plot\n",
    "fig.show()\n"
   ]
  },
  {
   "cell_type": "code",
   "execution_count": 8,
   "metadata": {},
   "outputs": [
    {
     "name": "stdout",
     "output_type": "stream",
     "text": [
      "         dominant_specialization  mall_sales_per_m2\n",
      "3       Food & Beverage Services       20793.111348\n",
      "2                Fashion apparel       18706.412059\n",
      "5                           Home       17050.180418\n",
      "6                       Services        9970.646163\n",
      "4                Health & Beauty        7786.448513\n",
      "1   Culture & Media & Technology         953.263549\n",
      "0  Bags & Footwear & Accessories         949.495230\n",
      "The dominant specialization maximizing sales/m² in small malls is Food & Beverage Services with average sales/m² of 20793.11\n"
     ]
    }
   ],
   "source": [
    "# Step 1: Filter for the \"small\" mall category\n",
    "small_malls = entropy[entropy['mall_area_category'] == 'small']\n",
    "\n",
    "# Step 2: Identify the dominant specialization within each mall\n",
    "# Calculate the dominant specialization for each mall\n",
    "dominant_specialization = store[store['mall_id'].isin(small_malls['mall_id'])].groupby(['mall_id', 'store_branch_level_1']).size().reset_index(name='count')\n",
    "dominant_specialization['proportion'] = dominant_specialization.groupby('mall_id')['count'].transform(lambda x: x / x.sum())\n",
    "dominant_specialization = dominant_specialization.sort_values(by=['mall_id', 'proportion'], ascending=[True, False]).drop_duplicates(subset='mall_id')\n",
    "\n",
    "# Keep only relevant columns\n",
    "dominant_specialization = dominant_specialization[['mall_id', 'store_branch_level_1', 'proportion']].rename(columns={'store_branch_level_1': 'dominant_specialization'})\n",
    "\n",
    "# Step 3: Merge dominant specialization with sales/m² data\n",
    "dominant_specialization = pd.merge(dominant_specialization, small_malls[['mall_id', 'mall_sales_per_m2']], on='mall_id', how='left')\n",
    "\n",
    "# Step 4: Group by dominant specialization and calculate average sales/m²\n",
    "specialization_sales = dominant_specialization.groupby('dominant_specialization')['mall_sales_per_m2'].mean().reset_index()\n",
    "specialization_sales = specialization_sales.sort_values(by='mall_sales_per_m2', ascending=False)\n",
    "\n",
    "# Display the specialization with the highest sales/m²\n",
    "print(specialization_sales)\n",
    "\n",
    "# The specialization with the maximum sales/m²\n",
    "max_specialization = specialization_sales.iloc[0]\n",
    "print(f\"The dominant specialization maximizing sales/m² in small malls is {max_specialization['dominant_specialization']} with average sales/m² of {max_specialization['mall_sales_per_m2']:.2f}\")\n"
   ]
  },
  {
   "cell_type": "code",
   "execution_count": 9,
   "metadata": {},
   "outputs": [
    {
     "data": {
      "application/vnd.plotly.v1+json": {
       "config": {
        "plotlyServerURL": "https://plot.ly"
       },
       "data": [
        {
         "alignmentgroup": "True",
         "hovertemplate": "Dominant Specialization=%{x}<br>Average Sales/m²=%{y}<extra></extra>",
         "legendgroup": "",
         "marker": {
          "color": "#636efa",
          "pattern": {
           "shape": ""
          }
         },
         "name": "",
         "offsetgroup": "",
         "orientation": "v",
         "showlegend": false,
         "textposition": "auto",
         "type": "bar",
         "x": [
          "Food & Beverage Services",
          "Fashion apparel",
          "Home",
          "Services",
          "Health & Beauty",
          "Culture & Media & Technology",
          "Bags & Footwear & Accessories"
         ],
         "xaxis": "x",
         "y": [
          20793.111348379454,
          18706.412059066195,
          17050.18041836388,
          9970.64616348899,
          7786.448512627591,
          953.2635487962098,
          949.4952297536903
         ],
         "yaxis": "y"
        }
       ],
       "layout": {
        "barmode": "relative",
        "legend": {
         "tracegroupgap": 0
        },
        "template": {
         "data": {
          "bar": [
           {
            "error_x": {
             "color": "#2a3f5f"
            },
            "error_y": {
             "color": "#2a3f5f"
            },
            "marker": {
             "line": {
              "color": "white",
              "width": 0.5
             },
             "pattern": {
              "fillmode": "overlay",
              "size": 10,
              "solidity": 0.2
             }
            },
            "type": "bar"
           }
          ],
          "barpolar": [
           {
            "marker": {
             "line": {
              "color": "white",
              "width": 0.5
             },
             "pattern": {
              "fillmode": "overlay",
              "size": 10,
              "solidity": 0.2
             }
            },
            "type": "barpolar"
           }
          ],
          "carpet": [
           {
            "aaxis": {
             "endlinecolor": "#2a3f5f",
             "gridcolor": "#C8D4E3",
             "linecolor": "#C8D4E3",
             "minorgridcolor": "#C8D4E3",
             "startlinecolor": "#2a3f5f"
            },
            "baxis": {
             "endlinecolor": "#2a3f5f",
             "gridcolor": "#C8D4E3",
             "linecolor": "#C8D4E3",
             "minorgridcolor": "#C8D4E3",
             "startlinecolor": "#2a3f5f"
            },
            "type": "carpet"
           }
          ],
          "choropleth": [
           {
            "colorbar": {
             "outlinewidth": 0,
             "ticks": ""
            },
            "type": "choropleth"
           }
          ],
          "contour": [
           {
            "colorbar": {
             "outlinewidth": 0,
             "ticks": ""
            },
            "colorscale": [
             [
              0,
              "#0d0887"
             ],
             [
              0.1111111111111111,
              "#46039f"
             ],
             [
              0.2222222222222222,
              "#7201a8"
             ],
             [
              0.3333333333333333,
              "#9c179e"
             ],
             [
              0.4444444444444444,
              "#bd3786"
             ],
             [
              0.5555555555555556,
              "#d8576b"
             ],
             [
              0.6666666666666666,
              "#ed7953"
             ],
             [
              0.7777777777777778,
              "#fb9f3a"
             ],
             [
              0.8888888888888888,
              "#fdca26"
             ],
             [
              1,
              "#f0f921"
             ]
            ],
            "type": "contour"
           }
          ],
          "contourcarpet": [
           {
            "colorbar": {
             "outlinewidth": 0,
             "ticks": ""
            },
            "type": "contourcarpet"
           }
          ],
          "heatmap": [
           {
            "colorbar": {
             "outlinewidth": 0,
             "ticks": ""
            },
            "colorscale": [
             [
              0,
              "#0d0887"
             ],
             [
              0.1111111111111111,
              "#46039f"
             ],
             [
              0.2222222222222222,
              "#7201a8"
             ],
             [
              0.3333333333333333,
              "#9c179e"
             ],
             [
              0.4444444444444444,
              "#bd3786"
             ],
             [
              0.5555555555555556,
              "#d8576b"
             ],
             [
              0.6666666666666666,
              "#ed7953"
             ],
             [
              0.7777777777777778,
              "#fb9f3a"
             ],
             [
              0.8888888888888888,
              "#fdca26"
             ],
             [
              1,
              "#f0f921"
             ]
            ],
            "type": "heatmap"
           }
          ],
          "heatmapgl": [
           {
            "colorbar": {
             "outlinewidth": 0,
             "ticks": ""
            },
            "colorscale": [
             [
              0,
              "#0d0887"
             ],
             [
              0.1111111111111111,
              "#46039f"
             ],
             [
              0.2222222222222222,
              "#7201a8"
             ],
             [
              0.3333333333333333,
              "#9c179e"
             ],
             [
              0.4444444444444444,
              "#bd3786"
             ],
             [
              0.5555555555555556,
              "#d8576b"
             ],
             [
              0.6666666666666666,
              "#ed7953"
             ],
             [
              0.7777777777777778,
              "#fb9f3a"
             ],
             [
              0.8888888888888888,
              "#fdca26"
             ],
             [
              1,
              "#f0f921"
             ]
            ],
            "type": "heatmapgl"
           }
          ],
          "histogram": [
           {
            "marker": {
             "pattern": {
              "fillmode": "overlay",
              "size": 10,
              "solidity": 0.2
             }
            },
            "type": "histogram"
           }
          ],
          "histogram2d": [
           {
            "colorbar": {
             "outlinewidth": 0,
             "ticks": ""
            },
            "colorscale": [
             [
              0,
              "#0d0887"
             ],
             [
              0.1111111111111111,
              "#46039f"
             ],
             [
              0.2222222222222222,
              "#7201a8"
             ],
             [
              0.3333333333333333,
              "#9c179e"
             ],
             [
              0.4444444444444444,
              "#bd3786"
             ],
             [
              0.5555555555555556,
              "#d8576b"
             ],
             [
              0.6666666666666666,
              "#ed7953"
             ],
             [
              0.7777777777777778,
              "#fb9f3a"
             ],
             [
              0.8888888888888888,
              "#fdca26"
             ],
             [
              1,
              "#f0f921"
             ]
            ],
            "type": "histogram2d"
           }
          ],
          "histogram2dcontour": [
           {
            "colorbar": {
             "outlinewidth": 0,
             "ticks": ""
            },
            "colorscale": [
             [
              0,
              "#0d0887"
             ],
             [
              0.1111111111111111,
              "#46039f"
             ],
             [
              0.2222222222222222,
              "#7201a8"
             ],
             [
              0.3333333333333333,
              "#9c179e"
             ],
             [
              0.4444444444444444,
              "#bd3786"
             ],
             [
              0.5555555555555556,
              "#d8576b"
             ],
             [
              0.6666666666666666,
              "#ed7953"
             ],
             [
              0.7777777777777778,
              "#fb9f3a"
             ],
             [
              0.8888888888888888,
              "#fdca26"
             ],
             [
              1,
              "#f0f921"
             ]
            ],
            "type": "histogram2dcontour"
           }
          ],
          "mesh3d": [
           {
            "colorbar": {
             "outlinewidth": 0,
             "ticks": ""
            },
            "type": "mesh3d"
           }
          ],
          "parcoords": [
           {
            "line": {
             "colorbar": {
              "outlinewidth": 0,
              "ticks": ""
             }
            },
            "type": "parcoords"
           }
          ],
          "pie": [
           {
            "automargin": true,
            "type": "pie"
           }
          ],
          "scatter": [
           {
            "fillpattern": {
             "fillmode": "overlay",
             "size": 10,
             "solidity": 0.2
            },
            "type": "scatter"
           }
          ],
          "scatter3d": [
           {
            "line": {
             "colorbar": {
              "outlinewidth": 0,
              "ticks": ""
             }
            },
            "marker": {
             "colorbar": {
              "outlinewidth": 0,
              "ticks": ""
             }
            },
            "type": "scatter3d"
           }
          ],
          "scattercarpet": [
           {
            "marker": {
             "colorbar": {
              "outlinewidth": 0,
              "ticks": ""
             }
            },
            "type": "scattercarpet"
           }
          ],
          "scattergeo": [
           {
            "marker": {
             "colorbar": {
              "outlinewidth": 0,
              "ticks": ""
             }
            },
            "type": "scattergeo"
           }
          ],
          "scattergl": [
           {
            "marker": {
             "colorbar": {
              "outlinewidth": 0,
              "ticks": ""
             }
            },
            "type": "scattergl"
           }
          ],
          "scattermapbox": [
           {
            "marker": {
             "colorbar": {
              "outlinewidth": 0,
              "ticks": ""
             }
            },
            "type": "scattermapbox"
           }
          ],
          "scatterpolar": [
           {
            "marker": {
             "colorbar": {
              "outlinewidth": 0,
              "ticks": ""
             }
            },
            "type": "scatterpolar"
           }
          ],
          "scatterpolargl": [
           {
            "marker": {
             "colorbar": {
              "outlinewidth": 0,
              "ticks": ""
             }
            },
            "type": "scatterpolargl"
           }
          ],
          "scatterternary": [
           {
            "marker": {
             "colorbar": {
              "outlinewidth": 0,
              "ticks": ""
             }
            },
            "type": "scatterternary"
           }
          ],
          "surface": [
           {
            "colorbar": {
             "outlinewidth": 0,
             "ticks": ""
            },
            "colorscale": [
             [
              0,
              "#0d0887"
             ],
             [
              0.1111111111111111,
              "#46039f"
             ],
             [
              0.2222222222222222,
              "#7201a8"
             ],
             [
              0.3333333333333333,
              "#9c179e"
             ],
             [
              0.4444444444444444,
              "#bd3786"
             ],
             [
              0.5555555555555556,
              "#d8576b"
             ],
             [
              0.6666666666666666,
              "#ed7953"
             ],
             [
              0.7777777777777778,
              "#fb9f3a"
             ],
             [
              0.8888888888888888,
              "#fdca26"
             ],
             [
              1,
              "#f0f921"
             ]
            ],
            "type": "surface"
           }
          ],
          "table": [
           {
            "cells": {
             "fill": {
              "color": "#EBF0F8"
             },
             "line": {
              "color": "white"
             }
            },
            "header": {
             "fill": {
              "color": "#C8D4E3"
             },
             "line": {
              "color": "white"
             }
            },
            "type": "table"
           }
          ]
         },
         "layout": {
          "annotationdefaults": {
           "arrowcolor": "#2a3f5f",
           "arrowhead": 0,
           "arrowwidth": 1
          },
          "autotypenumbers": "strict",
          "coloraxis": {
           "colorbar": {
            "outlinewidth": 0,
            "ticks": ""
           }
          },
          "colorscale": {
           "diverging": [
            [
             0,
             "#8e0152"
            ],
            [
             0.1,
             "#c51b7d"
            ],
            [
             0.2,
             "#de77ae"
            ],
            [
             0.3,
             "#f1b6da"
            ],
            [
             0.4,
             "#fde0ef"
            ],
            [
             0.5,
             "#f7f7f7"
            ],
            [
             0.6,
             "#e6f5d0"
            ],
            [
             0.7,
             "#b8e186"
            ],
            [
             0.8,
             "#7fbc41"
            ],
            [
             0.9,
             "#4d9221"
            ],
            [
             1,
             "#276419"
            ]
           ],
           "sequential": [
            [
             0,
             "#0d0887"
            ],
            [
             0.1111111111111111,
             "#46039f"
            ],
            [
             0.2222222222222222,
             "#7201a8"
            ],
            [
             0.3333333333333333,
             "#9c179e"
            ],
            [
             0.4444444444444444,
             "#bd3786"
            ],
            [
             0.5555555555555556,
             "#d8576b"
            ],
            [
             0.6666666666666666,
             "#ed7953"
            ],
            [
             0.7777777777777778,
             "#fb9f3a"
            ],
            [
             0.8888888888888888,
             "#fdca26"
            ],
            [
             1,
             "#f0f921"
            ]
           ],
           "sequentialminus": [
            [
             0,
             "#0d0887"
            ],
            [
             0.1111111111111111,
             "#46039f"
            ],
            [
             0.2222222222222222,
             "#7201a8"
            ],
            [
             0.3333333333333333,
             "#9c179e"
            ],
            [
             0.4444444444444444,
             "#bd3786"
            ],
            [
             0.5555555555555556,
             "#d8576b"
            ],
            [
             0.6666666666666666,
             "#ed7953"
            ],
            [
             0.7777777777777778,
             "#fb9f3a"
            ],
            [
             0.8888888888888888,
             "#fdca26"
            ],
            [
             1,
             "#f0f921"
            ]
           ]
          },
          "colorway": [
           "#636efa",
           "#EF553B",
           "#00cc96",
           "#ab63fa",
           "#FFA15A",
           "#19d3f3",
           "#FF6692",
           "#B6E880",
           "#FF97FF",
           "#FECB52"
          ],
          "font": {
           "color": "#2a3f5f"
          },
          "geo": {
           "bgcolor": "white",
           "lakecolor": "white",
           "landcolor": "white",
           "showlakes": true,
           "showland": true,
           "subunitcolor": "#C8D4E3"
          },
          "hoverlabel": {
           "align": "left"
          },
          "hovermode": "closest",
          "mapbox": {
           "style": "light"
          },
          "paper_bgcolor": "white",
          "plot_bgcolor": "white",
          "polar": {
           "angularaxis": {
            "gridcolor": "#EBF0F8",
            "linecolor": "#EBF0F8",
            "ticks": ""
           },
           "bgcolor": "white",
           "radialaxis": {
            "gridcolor": "#EBF0F8",
            "linecolor": "#EBF0F8",
            "ticks": ""
           }
          },
          "scene": {
           "xaxis": {
            "backgroundcolor": "white",
            "gridcolor": "#DFE8F3",
            "gridwidth": 2,
            "linecolor": "#EBF0F8",
            "showbackground": true,
            "ticks": "",
            "zerolinecolor": "#EBF0F8"
           },
           "yaxis": {
            "backgroundcolor": "white",
            "gridcolor": "#DFE8F3",
            "gridwidth": 2,
            "linecolor": "#EBF0F8",
            "showbackground": true,
            "ticks": "",
            "zerolinecolor": "#EBF0F8"
           },
           "zaxis": {
            "backgroundcolor": "white",
            "gridcolor": "#DFE8F3",
            "gridwidth": 2,
            "linecolor": "#EBF0F8",
            "showbackground": true,
            "ticks": "",
            "zerolinecolor": "#EBF0F8"
           }
          },
          "shapedefaults": {
           "line": {
            "color": "#2a3f5f"
           }
          },
          "ternary": {
           "aaxis": {
            "gridcolor": "#DFE8F3",
            "linecolor": "#A2B1C6",
            "ticks": ""
           },
           "baxis": {
            "gridcolor": "#DFE8F3",
            "linecolor": "#A2B1C6",
            "ticks": ""
           },
           "bgcolor": "white",
           "caxis": {
            "gridcolor": "#DFE8F3",
            "linecolor": "#A2B1C6",
            "ticks": ""
           }
          },
          "title": {
           "x": 0.05
          },
          "xaxis": {
           "automargin": true,
           "gridcolor": "#EBF0F8",
           "linecolor": "#EBF0F8",
           "ticks": "",
           "title": {
            "standoff": 15
           },
           "zerolinecolor": "#EBF0F8",
           "zerolinewidth": 2
          },
          "yaxis": {
           "automargin": true,
           "gridcolor": "#EBF0F8",
           "linecolor": "#EBF0F8",
           "ticks": "",
           "title": {
            "standoff": 15
           },
           "zerolinecolor": "#EBF0F8",
           "zerolinewidth": 2
          }
         }
        },
        "title": {
         "text": "Average Sales/m² by Dominant Specialization in Small Malls"
        },
        "xaxis": {
         "anchor": "y",
         "domain": [
          0,
          1
         ],
         "title": {
          "text": "Dominant Specialization"
         }
        },
        "yaxis": {
         "anchor": "x",
         "domain": [
          0,
          1
         ],
         "tickformat": ".2f",
         "title": {
          "text": "Average Sales/m²"
         }
        }
       }
      }
     },
     "metadata": {},
     "output_type": "display_data"
    }
   ],
   "source": [
    "import plotly.express as px\n",
    "\n",
    "# Plot the average sales/m² for each dominant specialization\n",
    "fig = px.bar(\n",
    "    specialization_sales,\n",
    "    x='dominant_specialization',\n",
    "    y='mall_sales_per_m2',\n",
    "    title='Average Sales/m² by Dominant Specialization in Small Malls',\n",
    "    labels={'dominant_specialization': 'Dominant Specialization', 'mall_sales_per_m2': 'Average Sales/m²'},\n",
    "    #text='mall_sales_per_m2'  # Display sales/m² values on the bars\n",
    ")\n",
    "\n",
    "# Update layout for better readability\n",
    "fig.update_layout(\n",
    "    xaxis_title='Dominant Specialization',\n",
    "    yaxis_title='Average Sales/m²',\n",
    "    yaxis=dict(tickformat=\".2f\"),\n",
    "    template='plotly_white'\n",
    ")\n",
    "\n",
    "# Add hover text\n",
    "#fig.update_traces(texttemplate='%{text:.2f}', textposition='outside')\n",
    "\n",
    "# Show the plot\n",
    "fig.show()\n"
   ]
  }
 ],
 "metadata": {
  "kernelspec": {
   "display_name": "3.8.10",
   "language": "python",
   "name": "python3"
  },
  "language_info": {
   "codemirror_mode": {
    "name": "ipython",
    "version": 3
   },
   "file_extension": ".py",
   "mimetype": "text/x-python",
   "name": "python",
   "nbconvert_exporter": "python",
   "pygments_lexer": "ipython3",
   "version": "3.8.10"
  }
 },
 "nbformat": 4,
 "nbformat_minor": 2
}
